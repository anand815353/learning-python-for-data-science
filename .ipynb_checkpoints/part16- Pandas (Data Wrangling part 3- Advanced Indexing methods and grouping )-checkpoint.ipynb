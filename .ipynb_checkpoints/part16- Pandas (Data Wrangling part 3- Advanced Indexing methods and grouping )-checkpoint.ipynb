{
 "cells": [
  {
   "cell_type": "markdown",
   "metadata": {},
   "source": [
    "# learning python libraies PART 16\n",
    "\n",
    "aNAND tIRKEY"
   ]
  },
  {
   "cell_type": "code",
   "execution_count": 1,
   "metadata": {},
   "outputs": [
    {
     "name": "stdout",
     "output_type": "stream",
     "text": [
      "3.7.4\n",
      "1.18.1\n",
      "3.1.3\n",
      "1.18.1\n"
     ]
    }
   ],
   "source": [
    "import numpy as np\n",
    "import platform\n",
    "import matplotlib as mpl                   #importing libraries\n",
    "import matplotlib.pylab as plt\n",
    "print(platform.python_version())\n",
    "print(np.__version__)\n",
    "print(mpl.__version__)\n",
    "print(plt.__version__)"
   ]
  },
  {
   "cell_type": "code",
   "execution_count": 2,
   "metadata": {},
   "outputs": [
    {
     "name": "stdout",
     "output_type": "stream",
     "text": [
      "1.0.0\n"
     ]
    }
   ],
   "source": [
    "import pandas as pd                   #importing library\n",
    "print(pd.__version__) "
   ]
  },
  {
   "cell_type": "code",
   "execution_count": 3,
   "metadata": {},
   "outputs": [
    {
     "name": "stdout",
     "output_type": "stream",
     "text": [
      "\n",
      "INSTALLED VERSIONS\n",
      "------------------\n",
      "commit           : None\n",
      "python           : 3.7.4.final.0\n",
      "python-bits      : 64\n",
      "OS               : Windows\n",
      "OS-release       : 10\n",
      "machine          : AMD64\n",
      "processor        : Intel64 Family 6 Model 158 Stepping 10, GenuineIntel\n",
      "byteorder        : little\n",
      "LC_ALL           : None\n",
      "LANG             : None\n",
      "LOCALE           : None.None\n",
      "\n",
      "pandas           : 1.0.0\n",
      "numpy            : 1.18.1\n",
      "pytz             : 2019.3\n",
      "dateutil         : 2.8.1\n",
      "pip              : 20.0.2\n",
      "setuptools       : 45.1.0.post20200127\n",
      "Cython           : 0.29.14\n",
      "pytest           : 5.3.5\n",
      "hypothesis       : 5.4.1\n",
      "sphinx           : 2.3.1\n",
      "blosc            : None\n",
      "feather          : None\n",
      "xlsxwriter       : 1.2.7\n",
      "lxml.etree       : 4.5.0\n",
      "html5lib         : 1.0.1\n",
      "pymysql          : None\n",
      "psycopg2         : None\n",
      "jinja2           : 2.11.1\n",
      "IPython          : 7.12.0\n",
      "pandas_datareader: None\n",
      "bs4              : 4.8.2\n",
      "bottleneck       : 1.3.1\n",
      "fastparquet      : None\n",
      "gcsfs            : None\n",
      "lxml.etree       : 4.5.0\n",
      "matplotlib       : 3.1.3\n",
      "numexpr          : 2.7.1\n",
      "odfpy            : None\n",
      "openpyxl         : 3.0.3\n",
      "pandas_gbq       : None\n",
      "pyarrow          : None\n",
      "pytables         : None\n",
      "pytest           : 5.3.5\n",
      "pyxlsb           : None\n",
      "s3fs             : None\n",
      "scipy            : 1.4.1\n",
      "sqlalchemy       : 1.3.13\n",
      "tables           : 3.6.1\n",
      "tabulate         : None\n",
      "xarray           : None\n",
      "xlrd             : 1.2.0\n",
      "xlwt             : 1.3.0\n",
      "xlsxwriter       : 1.2.7\n",
      "numba            : 0.48.0\n"
     ]
    }
   ],
   "source": [
    "pd.show_versions()"
   ]
  },
  {
   "cell_type": "code",
   "execution_count": 4,
   "metadata": {},
   "outputs": [
    {
     "data": {
      "text/html": [
       "<div>\n",
       "<style scoped>\n",
       "    .dataframe tbody tr th:only-of-type {\n",
       "        vertical-align: middle;\n",
       "    }\n",
       "\n",
       "    .dataframe tbody tr th {\n",
       "        vertical-align: top;\n",
       "    }\n",
       "\n",
       "    .dataframe thead th {\n",
       "        text-align: right;\n",
       "    }\n",
       "</style>\n",
       "<table border=\"1\" class=\"dataframe\">\n",
       "  <thead>\n",
       "    <tr style=\"text-align: right;\">\n",
       "      <th></th>\n",
       "      <th>States</th>\n",
       "      <th>Area</th>\n",
       "      <th>Population</th>\n",
       "      <th>Density</th>\n",
       "      <th>Gender_Ratio</th>\n",
       "      <th>Zone</th>\n",
       "      <th>Nominal GDP</th>\n",
       "    </tr>\n",
       "  </thead>\n",
       "  <tbody>\n",
       "    <tr>\n",
       "      <th>0</th>\n",
       "      <td>Uttar Pradesh</td>\n",
       "      <td>240928.0</td>\n",
       "      <td>199812341.0</td>\n",
       "      <td>828.0</td>\n",
       "      <td>0.879</td>\n",
       "      <td>central zone</td>\n",
       "      <td>220 Billion USD</td>\n",
       "    </tr>\n",
       "    <tr>\n",
       "      <th>1</th>\n",
       "      <td>Maharashtra</td>\n",
       "      <td>307713.0</td>\n",
       "      <td>112372972.0</td>\n",
       "      <td>365.0</td>\n",
       "      <td>0.878</td>\n",
       "      <td>western zone</td>\n",
       "      <td>420 Billion USD</td>\n",
       "    </tr>\n",
       "    <tr>\n",
       "      <th>2</th>\n",
       "      <td>Bihar</td>\n",
       "      <td>94163.0</td>\n",
       "      <td>103804637.0</td>\n",
       "      <td>1102.0</td>\n",
       "      <td>0.916</td>\n",
       "      <td>eastern zone</td>\n",
       "      <td>80 Billion USD</td>\n",
       "    </tr>\n",
       "    <tr>\n",
       "      <th>3</th>\n",
       "      <td>West Bengal</td>\n",
       "      <td>88752.0</td>\n",
       "      <td>91347736.0</td>\n",
       "      <td>1029.0</td>\n",
       "      <td>0.951</td>\n",
       "      <td>eastern zone</td>\n",
       "      <td>180 Billion USD</td>\n",
       "    </tr>\n",
       "    <tr>\n",
       "      <th>4</th>\n",
       "      <td>Madhya Pradesh</td>\n",
       "      <td>308245.0</td>\n",
       "      <td>72597565.0</td>\n",
       "      <td>236.0</td>\n",
       "      <td>0.919</td>\n",
       "      <td>central zone</td>\n",
       "      <td>130 Billion USD</td>\n",
       "    </tr>\n",
       "    <tr>\n",
       "      <th>5</th>\n",
       "      <td>Tamil Nadu</td>\n",
       "      <td>130058.0</td>\n",
       "      <td>72138958.0</td>\n",
       "      <td>555.0</td>\n",
       "      <td>0.911</td>\n",
       "      <td>southern zone</td>\n",
       "      <td>260 Billion USD</td>\n",
       "    </tr>\n",
       "    <tr>\n",
       "      <th>6</th>\n",
       "      <td>Rajasthan</td>\n",
       "      <td>342239.0</td>\n",
       "      <td>68621012.0</td>\n",
       "      <td>201.0</td>\n",
       "      <td>0.861</td>\n",
       "      <td>northern zone</td>\n",
       "      <td>130 Billion USD</td>\n",
       "    </tr>\n",
       "    <tr>\n",
       "      <th>7</th>\n",
       "      <td>Karnataka</td>\n",
       "      <td>191791.0</td>\n",
       "      <td>61130704.0</td>\n",
       "      <td>319.0</td>\n",
       "      <td>0.939</td>\n",
       "      <td>southern zone</td>\n",
       "      <td>220 Billion USD</td>\n",
       "    </tr>\n",
       "    <tr>\n",
       "      <th>8</th>\n",
       "      <td>Gujrat</td>\n",
       "      <td>196024.0</td>\n",
       "      <td>60383628.0</td>\n",
       "      <td>308.0</td>\n",
       "      <td>0.854</td>\n",
       "      <td>western zone</td>\n",
       "      <td>240 Billion USD</td>\n",
       "    </tr>\n",
       "    <tr>\n",
       "      <th>9</th>\n",
       "      <td>Andhra Pradesh</td>\n",
       "      <td>162968.0</td>\n",
       "      <td>49386799.0</td>\n",
       "      <td>303.0</td>\n",
       "      <td>0.918</td>\n",
       "      <td>southern zone</td>\n",
       "      <td>150 Billion USD</td>\n",
       "    </tr>\n",
       "  </tbody>\n",
       "</table>\n",
       "</div>"
      ],
      "text/plain": [
       "           States      Area   Population  Density  Gender_Ratio  \\\n",
       "0   Uttar Pradesh  240928.0  199812341.0    828.0         0.879   \n",
       "1     Maharashtra  307713.0  112372972.0    365.0         0.878   \n",
       "2           Bihar   94163.0  103804637.0   1102.0         0.916   \n",
       "3     West Bengal   88752.0   91347736.0   1029.0         0.951   \n",
       "4  Madhya Pradesh  308245.0   72597565.0    236.0         0.919   \n",
       "5      Tamil Nadu  130058.0   72138958.0    555.0         0.911   \n",
       "6       Rajasthan  342239.0   68621012.0    201.0         0.861   \n",
       "7       Karnataka  191791.0   61130704.0    319.0         0.939   \n",
       "8          Gujrat  196024.0   60383628.0    308.0         0.854   \n",
       "9  Andhra Pradesh  162968.0   49386799.0    303.0         0.918   \n",
       "\n",
       "            Zone      Nominal GDP  \n",
       "0   central zone  220 Billion USD  \n",
       "1   western zone  420 Billion USD  \n",
       "2   eastern zone   80 Billion USD  \n",
       "3   eastern zone  180 Billion USD  \n",
       "4   central zone  130 Billion USD  \n",
       "5  southern zone  260 Billion USD  \n",
       "6  northern zone  130 Billion USD  \n",
       "7  southern zone  220 Billion USD  \n",
       "8   western zone  240 Billion USD  \n",
       "9  southern zone  150 Billion USD  "
      ]
     },
     "execution_count": 4,
     "metadata": {},
     "output_type": "execute_result"
    }
   ],
   "source": [
    "df=pd.read_csv('data_set/part14.csv')  #importing Data Set\n",
    "df"
   ]
  },
  {
   "cell_type": "markdown",
   "metadata": {},
   "source": [
    "# 1. Fancy Indexing\n",
    "##### It means passing an array of indices to access multiple array elements at once.\n",
    "##### Its a feature of numpy"
   ]
  },
  {
   "cell_type": "code",
   "execution_count": 5,
   "metadata": {},
   "outputs": [
    {
     "name": "stdout",
     "output_type": "stream",
     "text": [
      "[51 92 14 71 60 20 82 86 74 74]\n"
     ]
    }
   ],
   "source": [
    "rand = np.random.RandomState(42)\n",
    "x = rand.randint(100, size=10)\n",
    "print(x)"
   ]
  },
  {
   "cell_type": "code",
   "execution_count": 6,
   "metadata": {},
   "outputs": [
    {
     "data": {
      "text/plain": [
       "[71, 86, 14]"
      ]
     },
     "execution_count": 6,
     "metadata": {},
     "output_type": "execute_result"
    }
   ],
   "source": [
    "[x[3], x[7], x[2]]"
   ]
  },
  {
   "cell_type": "code",
   "execution_count": 7,
   "metadata": {},
   "outputs": [
    {
     "data": {
      "text/html": [
       "<div>\n",
       "<style scoped>\n",
       "    .dataframe tbody tr th:only-of-type {\n",
       "        vertical-align: middle;\n",
       "    }\n",
       "\n",
       "    .dataframe tbody tr th {\n",
       "        vertical-align: top;\n",
       "    }\n",
       "\n",
       "    .dataframe thead th {\n",
       "        text-align: right;\n",
       "    }\n",
       "</style>\n",
       "<table border=\"1\" class=\"dataframe\">\n",
       "  <thead>\n",
       "    <tr style=\"text-align: right;\">\n",
       "      <th></th>\n",
       "      <th>States</th>\n",
       "      <th>Area</th>\n",
       "      <th>Population</th>\n",
       "      <th>Density</th>\n",
       "      <th>Gender_Ratio</th>\n",
       "      <th>Zone</th>\n",
       "      <th>Nominal GDP</th>\n",
       "    </tr>\n",
       "  </thead>\n",
       "  <tbody>\n",
       "    <tr>\n",
       "      <th>0</th>\n",
       "      <td>Uttar Pradesh</td>\n",
       "      <td>240928.0</td>\n",
       "      <td>199812341.0</td>\n",
       "      <td>828.0</td>\n",
       "      <td>0.879</td>\n",
       "      <td>central zone</td>\n",
       "      <td>220 Billion USD</td>\n",
       "    </tr>\n",
       "    <tr>\n",
       "      <th>1</th>\n",
       "      <td>Maharashtra</td>\n",
       "      <td>307713.0</td>\n",
       "      <td>112372972.0</td>\n",
       "      <td>365.0</td>\n",
       "      <td>0.878</td>\n",
       "      <td>western zone</td>\n",
       "      <td>420 Billion USD</td>\n",
       "    </tr>\n",
       "    <tr>\n",
       "      <th>2</th>\n",
       "      <td>Bihar</td>\n",
       "      <td>94163.0</td>\n",
       "      <td>103804637.0</td>\n",
       "      <td>1102.0</td>\n",
       "      <td>0.916</td>\n",
       "      <td>eastern zone</td>\n",
       "      <td>80 Billion USD</td>\n",
       "    </tr>\n",
       "  </tbody>\n",
       "</table>\n",
       "</div>"
      ],
      "text/plain": [
       "          States      Area   Population  Density  Gender_Ratio          Zone  \\\n",
       "0  Uttar Pradesh  240928.0  199812341.0    828.0         0.879  central zone   \n",
       "1    Maharashtra  307713.0  112372972.0    365.0         0.878  western zone   \n",
       "2          Bihar   94163.0  103804637.0   1102.0         0.916  eastern zone   \n",
       "\n",
       "       Nominal GDP  \n",
       "0  220 Billion USD  \n",
       "1  420 Billion USD  \n",
       "2   80 Billion USD  "
      ]
     },
     "execution_count": 7,
     "metadata": {},
     "output_type": "execute_result"
    }
   ],
   "source": [
    "df.head(3)"
   ]
  },
  {
   "cell_type": "code",
   "execution_count": 8,
   "metadata": {},
   "outputs": [
    {
     "data": {
      "text/plain": [
       "'Maharashtra'"
      ]
     },
     "execution_count": 8,
     "metadata": {},
     "output_type": "execute_result"
    }
   ],
   "source": [
    "df['States'][1]  #df['States'] is a series and [1] is fancy index"
   ]
  },
  {
   "cell_type": "code",
   "execution_count": 9,
   "metadata": {},
   "outputs": [
    {
     "data": {
      "text/plain": [
       "('Maharashtra', 'Bihar', 'Tamil Nadu')"
      ]
     },
     "execution_count": 9,
     "metadata": {},
     "output_type": "execute_result"
    }
   ],
   "source": [
    "df['States'][1],df['States'][2],df['States'][5]  #df['States'] is a series and [1] is fancy index"
   ]
  },
  {
   "cell_type": "markdown",
   "metadata": {},
   "source": [
    "# 2. Boolean Indexing\n",
    "##### In boolean indexing, we will select subsets of data based on the actual values of the data in the DataFrame and not on their row/column labels or integer locations. In boolean indexing, we use a boolean vector to filter the data.\n",
    "##### During filtering we use boolean indexing."
   ]
  },
  {
   "cell_type": "code",
   "execution_count": 10,
   "metadata": {},
   "outputs": [
    {
     "data": {
      "text/plain": [
       "0    False\n",
       "1    False\n",
       "2    False\n",
       "3    False\n",
       "4    False\n",
       "5     True\n",
       "6    False\n",
       "7     True\n",
       "8    False\n",
       "9     True\n",
       "Name: Zone, dtype: bool"
      ]
     },
     "execution_count": 10,
     "metadata": {},
     "output_type": "execute_result"
    }
   ],
   "source": [
    "filt=df.Zone=='southern zone'\n",
    "filt #this will act as index for filtering"
   ]
  },
  {
   "cell_type": "code",
   "execution_count": 11,
   "metadata": {},
   "outputs": [
    {
     "data": {
      "text/html": [
       "<div>\n",
       "<style scoped>\n",
       "    .dataframe tbody tr th:only-of-type {\n",
       "        vertical-align: middle;\n",
       "    }\n",
       "\n",
       "    .dataframe tbody tr th {\n",
       "        vertical-align: top;\n",
       "    }\n",
       "\n",
       "    .dataframe thead th {\n",
       "        text-align: right;\n",
       "    }\n",
       "</style>\n",
       "<table border=\"1\" class=\"dataframe\">\n",
       "  <thead>\n",
       "    <tr style=\"text-align: right;\">\n",
       "      <th></th>\n",
       "      <th>States</th>\n",
       "      <th>Area</th>\n",
       "      <th>Population</th>\n",
       "      <th>Density</th>\n",
       "      <th>Gender_Ratio</th>\n",
       "      <th>Zone</th>\n",
       "      <th>Nominal GDP</th>\n",
       "    </tr>\n",
       "  </thead>\n",
       "  <tbody>\n",
       "    <tr>\n",
       "      <th>5</th>\n",
       "      <td>Tamil Nadu</td>\n",
       "      <td>130058.0</td>\n",
       "      <td>72138958.0</td>\n",
       "      <td>555.0</td>\n",
       "      <td>0.911</td>\n",
       "      <td>southern zone</td>\n",
       "      <td>260 Billion USD</td>\n",
       "    </tr>\n",
       "    <tr>\n",
       "      <th>7</th>\n",
       "      <td>Karnataka</td>\n",
       "      <td>191791.0</td>\n",
       "      <td>61130704.0</td>\n",
       "      <td>319.0</td>\n",
       "      <td>0.939</td>\n",
       "      <td>southern zone</td>\n",
       "      <td>220 Billion USD</td>\n",
       "    </tr>\n",
       "    <tr>\n",
       "      <th>9</th>\n",
       "      <td>Andhra Pradesh</td>\n",
       "      <td>162968.0</td>\n",
       "      <td>49386799.0</td>\n",
       "      <td>303.0</td>\n",
       "      <td>0.918</td>\n",
       "      <td>southern zone</td>\n",
       "      <td>150 Billion USD</td>\n",
       "    </tr>\n",
       "  </tbody>\n",
       "</table>\n",
       "</div>"
      ],
      "text/plain": [
       "           States      Area  Population  Density  Gender_Ratio           Zone  \\\n",
       "5      Tamil Nadu  130058.0  72138958.0    555.0         0.911  southern zone   \n",
       "7       Karnataka  191791.0  61130704.0    319.0         0.939  southern zone   \n",
       "9  Andhra Pradesh  162968.0  49386799.0    303.0         0.918  southern zone   \n",
       "\n",
       "       Nominal GDP  \n",
       "5  260 Billion USD  \n",
       "7  220 Billion USD  \n",
       "9  150 Billion USD  "
      ]
     },
     "execution_count": 11,
     "metadata": {},
     "output_type": "execute_result"
    }
   ],
   "source": [
    "df.loc[filt] #where ever the boolen value was true in filter those index were selected"
   ]
  },
  {
   "cell_type": "markdown",
   "metadata": {},
   "source": [
    "##### Doing it manually"
   ]
  },
  {
   "cell_type": "code",
   "execution_count": 12,
   "metadata": {},
   "outputs": [
    {
     "data": {
      "text/html": [
       "<div>\n",
       "<style scoped>\n",
       "    .dataframe tbody tr th:only-of-type {\n",
       "        vertical-align: middle;\n",
       "    }\n",
       "\n",
       "    .dataframe tbody tr th {\n",
       "        vertical-align: top;\n",
       "    }\n",
       "\n",
       "    .dataframe thead th {\n",
       "        text-align: right;\n",
       "    }\n",
       "</style>\n",
       "<table border=\"1\" class=\"dataframe\">\n",
       "  <thead>\n",
       "    <tr style=\"text-align: right;\">\n",
       "      <th></th>\n",
       "      <th>States</th>\n",
       "      <th>Area</th>\n",
       "      <th>Population</th>\n",
       "      <th>Density</th>\n",
       "      <th>Gender_Ratio</th>\n",
       "      <th>Zone</th>\n",
       "      <th>Nominal GDP</th>\n",
       "    </tr>\n",
       "  </thead>\n",
       "  <tbody>\n",
       "    <tr>\n",
       "      <th>5</th>\n",
       "      <td>Tamil Nadu</td>\n",
       "      <td>130058.0</td>\n",
       "      <td>72138958.0</td>\n",
       "      <td>555.0</td>\n",
       "      <td>0.911</td>\n",
       "      <td>southern zone</td>\n",
       "      <td>260 Billion USD</td>\n",
       "    </tr>\n",
       "    <tr>\n",
       "      <th>7</th>\n",
       "      <td>Karnataka</td>\n",
       "      <td>191791.0</td>\n",
       "      <td>61130704.0</td>\n",
       "      <td>319.0</td>\n",
       "      <td>0.939</td>\n",
       "      <td>southern zone</td>\n",
       "      <td>220 Billion USD</td>\n",
       "    </tr>\n",
       "    <tr>\n",
       "      <th>9</th>\n",
       "      <td>Andhra Pradesh</td>\n",
       "      <td>162968.0</td>\n",
       "      <td>49386799.0</td>\n",
       "      <td>303.0</td>\n",
       "      <td>0.918</td>\n",
       "      <td>southern zone</td>\n",
       "      <td>150 Billion USD</td>\n",
       "    </tr>\n",
       "  </tbody>\n",
       "</table>\n",
       "</div>"
      ],
      "text/plain": [
       "           States      Area  Population  Density  Gender_Ratio           Zone  \\\n",
       "5      Tamil Nadu  130058.0  72138958.0    555.0         0.911  southern zone   \n",
       "7       Karnataka  191791.0  61130704.0    319.0         0.939  southern zone   \n",
       "9  Andhra Pradesh  162968.0  49386799.0    303.0         0.918  southern zone   \n",
       "\n",
       "       Nominal GDP  \n",
       "5  260 Billion USD  \n",
       "7  220 Billion USD  \n",
       "9  150 Billion USD  "
      ]
     },
     "execution_count": 12,
     "metadata": {},
     "output_type": "execute_result"
    }
   ],
   "source": [
    "df[[False,False,False,False,False,True, False, True, False,True]]"
   ]
  },
  {
   "cell_type": "markdown",
   "metadata": {},
   "source": [
    "##### we can use multiple filters using conditional operators \n",
    "##### Thus we use multiple boolean indexes with conditional operators "
   ]
  },
  {
   "cell_type": "code",
   "execution_count": 13,
   "metadata": {},
   "outputs": [
    {
     "data": {
      "text/plain": [
       "0     True\n",
       "1     True\n",
       "2    False\n",
       "3    False\n",
       "4     True\n",
       "5    False\n",
       "6     True\n",
       "7     True\n",
       "8     True\n",
       "9     True\n",
       "Name: Area, dtype: bool"
      ]
     },
     "execution_count": 13,
     "metadata": {},
     "output_type": "execute_result"
    }
   ],
   "source": [
    "filt2=df['Area']>140000\n",
    "filt2"
   ]
  },
  {
   "cell_type": "code",
   "execution_count": 14,
   "metadata": {},
   "outputs": [
    {
     "data": {
      "text/html": [
       "<div>\n",
       "<style scoped>\n",
       "    .dataframe tbody tr th:only-of-type {\n",
       "        vertical-align: middle;\n",
       "    }\n",
       "\n",
       "    .dataframe tbody tr th {\n",
       "        vertical-align: top;\n",
       "    }\n",
       "\n",
       "    .dataframe thead th {\n",
       "        text-align: right;\n",
       "    }\n",
       "</style>\n",
       "<table border=\"1\" class=\"dataframe\">\n",
       "  <thead>\n",
       "    <tr style=\"text-align: right;\">\n",
       "      <th></th>\n",
       "      <th>States</th>\n",
       "      <th>Area</th>\n",
       "      <th>Population</th>\n",
       "      <th>Density</th>\n",
       "      <th>Gender_Ratio</th>\n",
       "      <th>Zone</th>\n",
       "      <th>Nominal GDP</th>\n",
       "    </tr>\n",
       "  </thead>\n",
       "  <tbody>\n",
       "    <tr>\n",
       "      <th>7</th>\n",
       "      <td>Karnataka</td>\n",
       "      <td>191791.0</td>\n",
       "      <td>61130704.0</td>\n",
       "      <td>319.0</td>\n",
       "      <td>0.939</td>\n",
       "      <td>southern zone</td>\n",
       "      <td>220 Billion USD</td>\n",
       "    </tr>\n",
       "    <tr>\n",
       "      <th>9</th>\n",
       "      <td>Andhra Pradesh</td>\n",
       "      <td>162968.0</td>\n",
       "      <td>49386799.0</td>\n",
       "      <td>303.0</td>\n",
       "      <td>0.918</td>\n",
       "      <td>southern zone</td>\n",
       "      <td>150 Billion USD</td>\n",
       "    </tr>\n",
       "  </tbody>\n",
       "</table>\n",
       "</div>"
      ],
      "text/plain": [
       "           States      Area  Population  Density  Gender_Ratio           Zone  \\\n",
       "7       Karnataka  191791.0  61130704.0    319.0         0.939  southern zone   \n",
       "9  Andhra Pradesh  162968.0  49386799.0    303.0         0.918  southern zone   \n",
       "\n",
       "       Nominal GDP  \n",
       "7  220 Billion USD  \n",
       "9  150 Billion USD  "
      ]
     },
     "execution_count": 14,
     "metadata": {},
     "output_type": "execute_result"
    }
   ],
   "source": [
    "df.loc[filt & filt2]"
   ]
  },
  {
   "cell_type": "markdown",
   "metadata": {},
   "source": [
    "##### Doing it manually"
   ]
  },
  {
   "cell_type": "code",
   "execution_count": 15,
   "metadata": {
    "scrolled": false
   },
   "outputs": [
    {
     "data": {
      "text/html": [
       "<div>\n",
       "<style scoped>\n",
       "    .dataframe tbody tr th:only-of-type {\n",
       "        vertical-align: middle;\n",
       "    }\n",
       "\n",
       "    .dataframe tbody tr th {\n",
       "        vertical-align: top;\n",
       "    }\n",
       "\n",
       "    .dataframe thead th {\n",
       "        text-align: right;\n",
       "    }\n",
       "</style>\n",
       "<table border=\"1\" class=\"dataframe\">\n",
       "  <thead>\n",
       "    <tr style=\"text-align: right;\">\n",
       "      <th></th>\n",
       "      <th>States</th>\n",
       "      <th>Area</th>\n",
       "      <th>Population</th>\n",
       "      <th>Density</th>\n",
       "      <th>Gender_Ratio</th>\n",
       "      <th>Zone</th>\n",
       "      <th>Nominal GDP</th>\n",
       "    </tr>\n",
       "  </thead>\n",
       "  <tbody>\n",
       "    <tr>\n",
       "      <th>7</th>\n",
       "      <td>Karnataka</td>\n",
       "      <td>191791.0</td>\n",
       "      <td>61130704.0</td>\n",
       "      <td>319.0</td>\n",
       "      <td>0.939</td>\n",
       "      <td>southern zone</td>\n",
       "      <td>220 Billion USD</td>\n",
       "    </tr>\n",
       "    <tr>\n",
       "      <th>9</th>\n",
       "      <td>Andhra Pradesh</td>\n",
       "      <td>162968.0</td>\n",
       "      <td>49386799.0</td>\n",
       "      <td>303.0</td>\n",
       "      <td>0.918</td>\n",
       "      <td>southern zone</td>\n",
       "      <td>150 Billion USD</td>\n",
       "    </tr>\n",
       "  </tbody>\n",
       "</table>\n",
       "</div>"
      ],
      "text/plain": [
       "           States      Area  Population  Density  Gender_Ratio           Zone  \\\n",
       "7       Karnataka  191791.0  61130704.0    319.0         0.939  southern zone   \n",
       "9  Andhra Pradesh  162968.0  49386799.0    303.0         0.918  southern zone   \n",
       "\n",
       "       Nominal GDP  \n",
       "7  220 Billion USD  \n",
       "9  150 Billion USD  "
      ]
     },
     "execution_count": 15,
     "metadata": {},
     "output_type": "execute_result"
    }
   ],
   "source": [
    "(df[[False,False,False,False,False,True, False, True, False,True]]).loc[[False,True,True]]"
   ]
  },
  {
   "cell_type": "markdown",
   "metadata": {},
   "source": [
    "# 3. multi_Indexing or Hierarchical indexing\n",
    "##### DataFrame will have two or more dimensions that can be used to identify every row\n",
    "### while grouping  we leverage multi Indexing\n",
    "### 3.1 creating multi Index"
   ]
  },
  {
   "cell_type": "code",
   "execution_count": 16,
   "metadata": {},
   "outputs": [
    {
     "data": {
      "text/html": [
       "<div>\n",
       "<style scoped>\n",
       "    .dataframe tbody tr th:only-of-type {\n",
       "        vertical-align: middle;\n",
       "    }\n",
       "\n",
       "    .dataframe tbody tr th {\n",
       "        vertical-align: top;\n",
       "    }\n",
       "\n",
       "    .dataframe thead th {\n",
       "        text-align: right;\n",
       "    }\n",
       "</style>\n",
       "<table border=\"1\" class=\"dataframe\">\n",
       "  <thead>\n",
       "    <tr style=\"text-align: right;\">\n",
       "      <th></th>\n",
       "      <th>States</th>\n",
       "      <th>Area</th>\n",
       "      <th>Population</th>\n",
       "      <th>Density</th>\n",
       "      <th>Gender_Ratio</th>\n",
       "      <th>Zone</th>\n",
       "      <th>Nominal GDP</th>\n",
       "    </tr>\n",
       "  </thead>\n",
       "  <tbody>\n",
       "    <tr>\n",
       "      <th>0</th>\n",
       "      <td>Uttar Pradesh</td>\n",
       "      <td>240928.0</td>\n",
       "      <td>199812341.0</td>\n",
       "      <td>828.0</td>\n",
       "      <td>0.879</td>\n",
       "      <td>central zone</td>\n",
       "      <td>220 Billion USD</td>\n",
       "    </tr>\n",
       "    <tr>\n",
       "      <th>1</th>\n",
       "      <td>Maharashtra</td>\n",
       "      <td>307713.0</td>\n",
       "      <td>112372972.0</td>\n",
       "      <td>365.0</td>\n",
       "      <td>0.878</td>\n",
       "      <td>western zone</td>\n",
       "      <td>420 Billion USD</td>\n",
       "    </tr>\n",
       "    <tr>\n",
       "      <th>2</th>\n",
       "      <td>Bihar</td>\n",
       "      <td>94163.0</td>\n",
       "      <td>103804637.0</td>\n",
       "      <td>1102.0</td>\n",
       "      <td>0.916</td>\n",
       "      <td>eastern zone</td>\n",
       "      <td>80 Billion USD</td>\n",
       "    </tr>\n",
       "    <tr>\n",
       "      <th>3</th>\n",
       "      <td>West Bengal</td>\n",
       "      <td>88752.0</td>\n",
       "      <td>91347736.0</td>\n",
       "      <td>1029.0</td>\n",
       "      <td>0.951</td>\n",
       "      <td>eastern zone</td>\n",
       "      <td>180 Billion USD</td>\n",
       "    </tr>\n",
       "    <tr>\n",
       "      <th>4</th>\n",
       "      <td>Madhya Pradesh</td>\n",
       "      <td>308245.0</td>\n",
       "      <td>72597565.0</td>\n",
       "      <td>236.0</td>\n",
       "      <td>0.919</td>\n",
       "      <td>central zone</td>\n",
       "      <td>130 Billion USD</td>\n",
       "    </tr>\n",
       "    <tr>\n",
       "      <th>5</th>\n",
       "      <td>Tamil Nadu</td>\n",
       "      <td>130058.0</td>\n",
       "      <td>72138958.0</td>\n",
       "      <td>555.0</td>\n",
       "      <td>0.911</td>\n",
       "      <td>southern zone</td>\n",
       "      <td>260 Billion USD</td>\n",
       "    </tr>\n",
       "    <tr>\n",
       "      <th>6</th>\n",
       "      <td>Rajasthan</td>\n",
       "      <td>342239.0</td>\n",
       "      <td>68621012.0</td>\n",
       "      <td>201.0</td>\n",
       "      <td>0.861</td>\n",
       "      <td>northern zone</td>\n",
       "      <td>130 Billion USD</td>\n",
       "    </tr>\n",
       "    <tr>\n",
       "      <th>7</th>\n",
       "      <td>Karnataka</td>\n",
       "      <td>191791.0</td>\n",
       "      <td>61130704.0</td>\n",
       "      <td>319.0</td>\n",
       "      <td>0.939</td>\n",
       "      <td>southern zone</td>\n",
       "      <td>220 Billion USD</td>\n",
       "    </tr>\n",
       "    <tr>\n",
       "      <th>8</th>\n",
       "      <td>Gujrat</td>\n",
       "      <td>196024.0</td>\n",
       "      <td>60383628.0</td>\n",
       "      <td>308.0</td>\n",
       "      <td>0.854</td>\n",
       "      <td>western zone</td>\n",
       "      <td>240 Billion USD</td>\n",
       "    </tr>\n",
       "    <tr>\n",
       "      <th>9</th>\n",
       "      <td>Andhra Pradesh</td>\n",
       "      <td>162968.0</td>\n",
       "      <td>49386799.0</td>\n",
       "      <td>303.0</td>\n",
       "      <td>0.918</td>\n",
       "      <td>southern zone</td>\n",
       "      <td>150 Billion USD</td>\n",
       "    </tr>\n",
       "  </tbody>\n",
       "</table>\n",
       "</div>"
      ],
      "text/plain": [
       "           States      Area   Population  Density  Gender_Ratio  \\\n",
       "0   Uttar Pradesh  240928.0  199812341.0    828.0         0.879   \n",
       "1     Maharashtra  307713.0  112372972.0    365.0         0.878   \n",
       "2           Bihar   94163.0  103804637.0   1102.0         0.916   \n",
       "3     West Bengal   88752.0   91347736.0   1029.0         0.951   \n",
       "4  Madhya Pradesh  308245.0   72597565.0    236.0         0.919   \n",
       "5      Tamil Nadu  130058.0   72138958.0    555.0         0.911   \n",
       "6       Rajasthan  342239.0   68621012.0    201.0         0.861   \n",
       "7       Karnataka  191791.0   61130704.0    319.0         0.939   \n",
       "8          Gujrat  196024.0   60383628.0    308.0         0.854   \n",
       "9  Andhra Pradesh  162968.0   49386799.0    303.0         0.918   \n",
       "\n",
       "            Zone      Nominal GDP  \n",
       "0   central zone  220 Billion USD  \n",
       "1   western zone  420 Billion USD  \n",
       "2   eastern zone   80 Billion USD  \n",
       "3   eastern zone  180 Billion USD  \n",
       "4   central zone  130 Billion USD  \n",
       "5  southern zone  260 Billion USD  \n",
       "6  northern zone  130 Billion USD  \n",
       "7  southern zone  220 Billion USD  \n",
       "8   western zone  240 Billion USD  \n",
       "9  southern zone  150 Billion USD  "
      ]
     },
     "execution_count": 16,
     "metadata": {},
     "output_type": "execute_result"
    }
   ],
   "source": [
    "df"
   ]
  },
  {
   "cell_type": "code",
   "execution_count": 17,
   "metadata": {},
   "outputs": [
    {
     "data": {
      "text/plain": [
       "FrozenList([None])"
      ]
     },
     "execution_count": 17,
     "metadata": {},
     "output_type": "execute_result"
    }
   ],
   "source": [
    "df.index.names #gives the index names"
   ]
  },
  {
   "cell_type": "code",
   "execution_count": 18,
   "metadata": {},
   "outputs": [
    {
     "data": {
      "text/plain": [
       "0    1\n",
       "1    1\n",
       "2    1\n",
       "3    2\n",
       "4    2\n",
       "5    1\n",
       "6    1\n",
       "7    2\n",
       "8    2\n",
       "9    3\n",
       "Name: id, dtype: int32"
      ]
     },
     "execution_count": 18,
     "metadata": {},
     "output_type": "execute_result"
    }
   ],
   "source": [
    "update=pd.Series([1,1,1,2,2,1,1,2,2,3], name='id',dtype=int)  # this will be our 2nd index\n",
    "update"
   ]
  },
  {
   "cell_type": "code",
   "execution_count": 19,
   "metadata": {},
   "outputs": [
    {
     "data": {
      "text/html": [
       "<div>\n",
       "<style scoped>\n",
       "    .dataframe tbody tr th:only-of-type {\n",
       "        vertical-align: middle;\n",
       "    }\n",
       "\n",
       "    .dataframe tbody tr th {\n",
       "        vertical-align: top;\n",
       "    }\n",
       "\n",
       "    .dataframe thead th {\n",
       "        text-align: right;\n",
       "    }\n",
       "</style>\n",
       "<table border=\"1\" class=\"dataframe\">\n",
       "  <thead>\n",
       "    <tr style=\"text-align: right;\">\n",
       "      <th></th>\n",
       "      <th>States</th>\n",
       "      <th>Area</th>\n",
       "      <th>Population</th>\n",
       "      <th>Density</th>\n",
       "      <th>Gender_Ratio</th>\n",
       "      <th>Zone</th>\n",
       "      <th>Nominal GDP</th>\n",
       "      <th>Id</th>\n",
       "    </tr>\n",
       "  </thead>\n",
       "  <tbody>\n",
       "    <tr>\n",
       "      <th>0</th>\n",
       "      <td>Uttar Pradesh</td>\n",
       "      <td>240928.0</td>\n",
       "      <td>199812341.0</td>\n",
       "      <td>828.0</td>\n",
       "      <td>0.879</td>\n",
       "      <td>central zone</td>\n",
       "      <td>220 Billion USD</td>\n",
       "      <td>1</td>\n",
       "    </tr>\n",
       "    <tr>\n",
       "      <th>1</th>\n",
       "      <td>Maharashtra</td>\n",
       "      <td>307713.0</td>\n",
       "      <td>112372972.0</td>\n",
       "      <td>365.0</td>\n",
       "      <td>0.878</td>\n",
       "      <td>western zone</td>\n",
       "      <td>420 Billion USD</td>\n",
       "      <td>1</td>\n",
       "    </tr>\n",
       "    <tr>\n",
       "      <th>2</th>\n",
       "      <td>Bihar</td>\n",
       "      <td>94163.0</td>\n",
       "      <td>103804637.0</td>\n",
       "      <td>1102.0</td>\n",
       "      <td>0.916</td>\n",
       "      <td>eastern zone</td>\n",
       "      <td>80 Billion USD</td>\n",
       "      <td>1</td>\n",
       "    </tr>\n",
       "    <tr>\n",
       "      <th>3</th>\n",
       "      <td>West Bengal</td>\n",
       "      <td>88752.0</td>\n",
       "      <td>91347736.0</td>\n",
       "      <td>1029.0</td>\n",
       "      <td>0.951</td>\n",
       "      <td>eastern zone</td>\n",
       "      <td>180 Billion USD</td>\n",
       "      <td>2</td>\n",
       "    </tr>\n",
       "    <tr>\n",
       "      <th>4</th>\n",
       "      <td>Madhya Pradesh</td>\n",
       "      <td>308245.0</td>\n",
       "      <td>72597565.0</td>\n",
       "      <td>236.0</td>\n",
       "      <td>0.919</td>\n",
       "      <td>central zone</td>\n",
       "      <td>130 Billion USD</td>\n",
       "      <td>2</td>\n",
       "    </tr>\n",
       "    <tr>\n",
       "      <th>5</th>\n",
       "      <td>Tamil Nadu</td>\n",
       "      <td>130058.0</td>\n",
       "      <td>72138958.0</td>\n",
       "      <td>555.0</td>\n",
       "      <td>0.911</td>\n",
       "      <td>southern zone</td>\n",
       "      <td>260 Billion USD</td>\n",
       "      <td>1</td>\n",
       "    </tr>\n",
       "    <tr>\n",
       "      <th>6</th>\n",
       "      <td>Rajasthan</td>\n",
       "      <td>342239.0</td>\n",
       "      <td>68621012.0</td>\n",
       "      <td>201.0</td>\n",
       "      <td>0.861</td>\n",
       "      <td>northern zone</td>\n",
       "      <td>130 Billion USD</td>\n",
       "      <td>1</td>\n",
       "    </tr>\n",
       "    <tr>\n",
       "      <th>7</th>\n",
       "      <td>Karnataka</td>\n",
       "      <td>191791.0</td>\n",
       "      <td>61130704.0</td>\n",
       "      <td>319.0</td>\n",
       "      <td>0.939</td>\n",
       "      <td>southern zone</td>\n",
       "      <td>220 Billion USD</td>\n",
       "      <td>2</td>\n",
       "    </tr>\n",
       "    <tr>\n",
       "      <th>8</th>\n",
       "      <td>Gujrat</td>\n",
       "      <td>196024.0</td>\n",
       "      <td>60383628.0</td>\n",
       "      <td>308.0</td>\n",
       "      <td>0.854</td>\n",
       "      <td>western zone</td>\n",
       "      <td>240 Billion USD</td>\n",
       "      <td>2</td>\n",
       "    </tr>\n",
       "    <tr>\n",
       "      <th>9</th>\n",
       "      <td>Andhra Pradesh</td>\n",
       "      <td>162968.0</td>\n",
       "      <td>49386799.0</td>\n",
       "      <td>303.0</td>\n",
       "      <td>0.918</td>\n",
       "      <td>southern zone</td>\n",
       "      <td>150 Billion USD</td>\n",
       "      <td>3</td>\n",
       "    </tr>\n",
       "  </tbody>\n",
       "</table>\n",
       "</div>"
      ],
      "text/plain": [
       "           States      Area   Population  Density  Gender_Ratio  \\\n",
       "0   Uttar Pradesh  240928.0  199812341.0    828.0         0.879   \n",
       "1     Maharashtra  307713.0  112372972.0    365.0         0.878   \n",
       "2           Bihar   94163.0  103804637.0   1102.0         0.916   \n",
       "3     West Bengal   88752.0   91347736.0   1029.0         0.951   \n",
       "4  Madhya Pradesh  308245.0   72597565.0    236.0         0.919   \n",
       "5      Tamil Nadu  130058.0   72138958.0    555.0         0.911   \n",
       "6       Rajasthan  342239.0   68621012.0    201.0         0.861   \n",
       "7       Karnataka  191791.0   61130704.0    319.0         0.939   \n",
       "8          Gujrat  196024.0   60383628.0    308.0         0.854   \n",
       "9  Andhra Pradesh  162968.0   49386799.0    303.0         0.918   \n",
       "\n",
       "            Zone      Nominal GDP  Id  \n",
       "0   central zone  220 Billion USD   1  \n",
       "1   western zone  420 Billion USD   1  \n",
       "2   eastern zone   80 Billion USD   1  \n",
       "3   eastern zone  180 Billion USD   2  \n",
       "4   central zone  130 Billion USD   2  \n",
       "5  southern zone  260 Billion USD   1  \n",
       "6  northern zone  130 Billion USD   1  \n",
       "7  southern zone  220 Billion USD   2  \n",
       "8   western zone  240 Billion USD   2  \n",
       "9  southern zone  150 Billion USD   3  "
      ]
     },
     "execution_count": 19,
     "metadata": {},
     "output_type": "execute_result"
    }
   ],
   "source": [
    "df['Id']=update\n",
    "df"
   ]
  },
  {
   "cell_type": "code",
   "execution_count": 20,
   "metadata": {},
   "outputs": [
    {
     "data": {
      "text/html": [
       "<div>\n",
       "<style scoped>\n",
       "    .dataframe tbody tr th:only-of-type {\n",
       "        vertical-align: middle;\n",
       "    }\n",
       "\n",
       "    .dataframe tbody tr th {\n",
       "        vertical-align: top;\n",
       "    }\n",
       "\n",
       "    .dataframe thead th {\n",
       "        text-align: right;\n",
       "    }\n",
       "</style>\n",
       "<table border=\"1\" class=\"dataframe\">\n",
       "  <thead>\n",
       "    <tr style=\"text-align: right;\">\n",
       "      <th></th>\n",
       "      <th></th>\n",
       "      <th>States</th>\n",
       "      <th>Area</th>\n",
       "      <th>Population</th>\n",
       "      <th>Density</th>\n",
       "      <th>Gender_Ratio</th>\n",
       "      <th>Nominal GDP</th>\n",
       "    </tr>\n",
       "    <tr>\n",
       "      <th>Zone</th>\n",
       "      <th>Id</th>\n",
       "      <th></th>\n",
       "      <th></th>\n",
       "      <th></th>\n",
       "      <th></th>\n",
       "      <th></th>\n",
       "      <th></th>\n",
       "    </tr>\n",
       "  </thead>\n",
       "  <tbody>\n",
       "    <tr>\n",
       "      <th>central zone</th>\n",
       "      <th>1</th>\n",
       "      <td>Uttar Pradesh</td>\n",
       "      <td>240928.0</td>\n",
       "      <td>199812341.0</td>\n",
       "      <td>828.0</td>\n",
       "      <td>0.879</td>\n",
       "      <td>220 Billion USD</td>\n",
       "    </tr>\n",
       "    <tr>\n",
       "      <th>western zone</th>\n",
       "      <th>1</th>\n",
       "      <td>Maharashtra</td>\n",
       "      <td>307713.0</td>\n",
       "      <td>112372972.0</td>\n",
       "      <td>365.0</td>\n",
       "      <td>0.878</td>\n",
       "      <td>420 Billion USD</td>\n",
       "    </tr>\n",
       "    <tr>\n",
       "      <th rowspan=\"2\" valign=\"top\">eastern zone</th>\n",
       "      <th>1</th>\n",
       "      <td>Bihar</td>\n",
       "      <td>94163.0</td>\n",
       "      <td>103804637.0</td>\n",
       "      <td>1102.0</td>\n",
       "      <td>0.916</td>\n",
       "      <td>80 Billion USD</td>\n",
       "    </tr>\n",
       "    <tr>\n",
       "      <th>2</th>\n",
       "      <td>West Bengal</td>\n",
       "      <td>88752.0</td>\n",
       "      <td>91347736.0</td>\n",
       "      <td>1029.0</td>\n",
       "      <td>0.951</td>\n",
       "      <td>180 Billion USD</td>\n",
       "    </tr>\n",
       "    <tr>\n",
       "      <th>central zone</th>\n",
       "      <th>2</th>\n",
       "      <td>Madhya Pradesh</td>\n",
       "      <td>308245.0</td>\n",
       "      <td>72597565.0</td>\n",
       "      <td>236.0</td>\n",
       "      <td>0.919</td>\n",
       "      <td>130 Billion USD</td>\n",
       "    </tr>\n",
       "    <tr>\n",
       "      <th>southern zone</th>\n",
       "      <th>1</th>\n",
       "      <td>Tamil Nadu</td>\n",
       "      <td>130058.0</td>\n",
       "      <td>72138958.0</td>\n",
       "      <td>555.0</td>\n",
       "      <td>0.911</td>\n",
       "      <td>260 Billion USD</td>\n",
       "    </tr>\n",
       "    <tr>\n",
       "      <th>northern zone</th>\n",
       "      <th>1</th>\n",
       "      <td>Rajasthan</td>\n",
       "      <td>342239.0</td>\n",
       "      <td>68621012.0</td>\n",
       "      <td>201.0</td>\n",
       "      <td>0.861</td>\n",
       "      <td>130 Billion USD</td>\n",
       "    </tr>\n",
       "    <tr>\n",
       "      <th>southern zone</th>\n",
       "      <th>2</th>\n",
       "      <td>Karnataka</td>\n",
       "      <td>191791.0</td>\n",
       "      <td>61130704.0</td>\n",
       "      <td>319.0</td>\n",
       "      <td>0.939</td>\n",
       "      <td>220 Billion USD</td>\n",
       "    </tr>\n",
       "    <tr>\n",
       "      <th>western zone</th>\n",
       "      <th>2</th>\n",
       "      <td>Gujrat</td>\n",
       "      <td>196024.0</td>\n",
       "      <td>60383628.0</td>\n",
       "      <td>308.0</td>\n",
       "      <td>0.854</td>\n",
       "      <td>240 Billion USD</td>\n",
       "    </tr>\n",
       "    <tr>\n",
       "      <th>southern zone</th>\n",
       "      <th>3</th>\n",
       "      <td>Andhra Pradesh</td>\n",
       "      <td>162968.0</td>\n",
       "      <td>49386799.0</td>\n",
       "      <td>303.0</td>\n",
       "      <td>0.918</td>\n",
       "      <td>150 Billion USD</td>\n",
       "    </tr>\n",
       "  </tbody>\n",
       "</table>\n",
       "</div>"
      ],
      "text/plain": [
       "                          States      Area   Population  Density  \\\n",
       "Zone          Id                                                   \n",
       "central zone  1    Uttar Pradesh  240928.0  199812341.0    828.0   \n",
       "western zone  1      Maharashtra  307713.0  112372972.0    365.0   \n",
       "eastern zone  1            Bihar   94163.0  103804637.0   1102.0   \n",
       "              2      West Bengal   88752.0   91347736.0   1029.0   \n",
       "central zone  2   Madhya Pradesh  308245.0   72597565.0    236.0   \n",
       "southern zone 1       Tamil Nadu  130058.0   72138958.0    555.0   \n",
       "northern zone 1        Rajasthan  342239.0   68621012.0    201.0   \n",
       "southern zone 2        Karnataka  191791.0   61130704.0    319.0   \n",
       "western zone  2           Gujrat  196024.0   60383628.0    308.0   \n",
       "southern zone 3   Andhra Pradesh  162968.0   49386799.0    303.0   \n",
       "\n",
       "                  Gender_Ratio      Nominal GDP  \n",
       "Zone          Id                                 \n",
       "central zone  1          0.879  220 Billion USD  \n",
       "western zone  1          0.878  420 Billion USD  \n",
       "eastern zone  1          0.916   80 Billion USD  \n",
       "              2          0.951  180 Billion USD  \n",
       "central zone  2          0.919  130 Billion USD  \n",
       "southern zone 1          0.911  260 Billion USD  \n",
       "northern zone 1          0.861  130 Billion USD  \n",
       "southern zone 2          0.939  220 Billion USD  \n",
       "western zone  2          0.854  240 Billion USD  \n",
       "southern zone 3          0.918  150 Billion USD  "
      ]
     },
     "execution_count": 20,
     "metadata": {},
     "output_type": "execute_result"
    }
   ],
   "source": [
    "multi_index= df.set_index(['Zone','Id'])  #creating multiple index\n",
    "multi_index"
   ]
  },
  {
   "cell_type": "code",
   "execution_count": 21,
   "metadata": {},
   "outputs": [
    {
     "data": {
      "text/plain": [
       "FrozenList(['Zone', 'Id'])"
      ]
     },
     "execution_count": 21,
     "metadata": {},
     "output_type": "execute_result"
    }
   ],
   "source": [
    "multi_index.index.names   #now we have two index"
   ]
  },
  {
   "cell_type": "markdown",
   "metadata": {},
   "source": [
    "##### it doesnot look pretty!! because we missed alignment in most part except eastern zone\n",
    "##### therefore we use sort then multi index"
   ]
  },
  {
   "cell_type": "code",
   "execution_count": 22,
   "metadata": {},
   "outputs": [
    {
     "data": {
      "text/html": [
       "<div>\n",
       "<style scoped>\n",
       "    .dataframe tbody tr th:only-of-type {\n",
       "        vertical-align: middle;\n",
       "    }\n",
       "\n",
       "    .dataframe tbody tr th {\n",
       "        vertical-align: top;\n",
       "    }\n",
       "\n",
       "    .dataframe thead th {\n",
       "        text-align: right;\n",
       "    }\n",
       "</style>\n",
       "<table border=\"1\" class=\"dataframe\">\n",
       "  <thead>\n",
       "    <tr style=\"text-align: right;\">\n",
       "      <th></th>\n",
       "      <th>States</th>\n",
       "      <th>Area</th>\n",
       "      <th>Population</th>\n",
       "      <th>Density</th>\n",
       "      <th>Gender_Ratio</th>\n",
       "      <th>Zone</th>\n",
       "      <th>Nominal GDP</th>\n",
       "      <th>Id</th>\n",
       "    </tr>\n",
       "  </thead>\n",
       "  <tbody>\n",
       "    <tr>\n",
       "      <th>0</th>\n",
       "      <td>Uttar Pradesh</td>\n",
       "      <td>240928.0</td>\n",
       "      <td>199812341.0</td>\n",
       "      <td>828.0</td>\n",
       "      <td>0.879</td>\n",
       "      <td>central zone</td>\n",
       "      <td>220 Billion USD</td>\n",
       "      <td>1</td>\n",
       "    </tr>\n",
       "    <tr>\n",
       "      <th>4</th>\n",
       "      <td>Madhya Pradesh</td>\n",
       "      <td>308245.0</td>\n",
       "      <td>72597565.0</td>\n",
       "      <td>236.0</td>\n",
       "      <td>0.919</td>\n",
       "      <td>central zone</td>\n",
       "      <td>130 Billion USD</td>\n",
       "      <td>2</td>\n",
       "    </tr>\n",
       "    <tr>\n",
       "      <th>2</th>\n",
       "      <td>Bihar</td>\n",
       "      <td>94163.0</td>\n",
       "      <td>103804637.0</td>\n",
       "      <td>1102.0</td>\n",
       "      <td>0.916</td>\n",
       "      <td>eastern zone</td>\n",
       "      <td>80 Billion USD</td>\n",
       "      <td>1</td>\n",
       "    </tr>\n",
       "    <tr>\n",
       "      <th>3</th>\n",
       "      <td>West Bengal</td>\n",
       "      <td>88752.0</td>\n",
       "      <td>91347736.0</td>\n",
       "      <td>1029.0</td>\n",
       "      <td>0.951</td>\n",
       "      <td>eastern zone</td>\n",
       "      <td>180 Billion USD</td>\n",
       "      <td>2</td>\n",
       "    </tr>\n",
       "  </tbody>\n",
       "</table>\n",
       "</div>"
      ],
      "text/plain": [
       "           States      Area   Population  Density  Gender_Ratio          Zone  \\\n",
       "0   Uttar Pradesh  240928.0  199812341.0    828.0         0.879  central zone   \n",
       "4  Madhya Pradesh  308245.0   72597565.0    236.0         0.919  central zone   \n",
       "2           Bihar   94163.0  103804637.0   1102.0         0.916  eastern zone   \n",
       "3     West Bengal   88752.0   91347736.0   1029.0         0.951  eastern zone   \n",
       "\n",
       "       Nominal GDP  Id  \n",
       "0  220 Billion USD   1  \n",
       "4  130 Billion USD   2  \n",
       "2   80 Billion USD   1  \n",
       "3  180 Billion USD   2  "
      ]
     },
     "execution_count": 22,
     "metadata": {},
     "output_type": "execute_result"
    }
   ],
   "source": [
    "df.sort_values(by='Zone',ascending=True).head(4) #sorted based on zones"
   ]
  },
  {
   "cell_type": "markdown",
   "metadata": {},
   "source": [
    "###### eg1 : zones are auto aligned"
   ]
  },
  {
   "cell_type": "code",
   "execution_count": 23,
   "metadata": {},
   "outputs": [
    {
     "data": {
      "text/html": [
       "<div>\n",
       "<style scoped>\n",
       "    .dataframe tbody tr th:only-of-type {\n",
       "        vertical-align: middle;\n",
       "    }\n",
       "\n",
       "    .dataframe tbody tr th {\n",
       "        vertical-align: top;\n",
       "    }\n",
       "\n",
       "    .dataframe thead th {\n",
       "        text-align: right;\n",
       "    }\n",
       "</style>\n",
       "<table border=\"1\" class=\"dataframe\">\n",
       "  <thead>\n",
       "    <tr style=\"text-align: right;\">\n",
       "      <th></th>\n",
       "      <th></th>\n",
       "      <th>States</th>\n",
       "      <th>Area</th>\n",
       "      <th>Population</th>\n",
       "      <th>Density</th>\n",
       "      <th>Gender_Ratio</th>\n",
       "      <th>Nominal GDP</th>\n",
       "    </tr>\n",
       "    <tr>\n",
       "      <th>Zone</th>\n",
       "      <th>Id</th>\n",
       "      <th></th>\n",
       "      <th></th>\n",
       "      <th></th>\n",
       "      <th></th>\n",
       "      <th></th>\n",
       "      <th></th>\n",
       "    </tr>\n",
       "  </thead>\n",
       "  <tbody>\n",
       "    <tr>\n",
       "      <th rowspan=\"2\" valign=\"top\">central zone</th>\n",
       "      <th>1</th>\n",
       "      <td>Uttar Pradesh</td>\n",
       "      <td>240928.0</td>\n",
       "      <td>199812341.0</td>\n",
       "      <td>828.0</td>\n",
       "      <td>0.879</td>\n",
       "      <td>220 Billion USD</td>\n",
       "    </tr>\n",
       "    <tr>\n",
       "      <th>2</th>\n",
       "      <td>Madhya Pradesh</td>\n",
       "      <td>308245.0</td>\n",
       "      <td>72597565.0</td>\n",
       "      <td>236.0</td>\n",
       "      <td>0.919</td>\n",
       "      <td>130 Billion USD</td>\n",
       "    </tr>\n",
       "    <tr>\n",
       "      <th rowspan=\"2\" valign=\"top\">eastern zone</th>\n",
       "      <th>1</th>\n",
       "      <td>Bihar</td>\n",
       "      <td>94163.0</td>\n",
       "      <td>103804637.0</td>\n",
       "      <td>1102.0</td>\n",
       "      <td>0.916</td>\n",
       "      <td>80 Billion USD</td>\n",
       "    </tr>\n",
       "    <tr>\n",
       "      <th>2</th>\n",
       "      <td>West Bengal</td>\n",
       "      <td>88752.0</td>\n",
       "      <td>91347736.0</td>\n",
       "      <td>1029.0</td>\n",
       "      <td>0.951</td>\n",
       "      <td>180 Billion USD</td>\n",
       "    </tr>\n",
       "    <tr>\n",
       "      <th>northern zone</th>\n",
       "      <th>1</th>\n",
       "      <td>Rajasthan</td>\n",
       "      <td>342239.0</td>\n",
       "      <td>68621012.0</td>\n",
       "      <td>201.0</td>\n",
       "      <td>0.861</td>\n",
       "      <td>130 Billion USD</td>\n",
       "    </tr>\n",
       "    <tr>\n",
       "      <th rowspan=\"3\" valign=\"top\">southern zone</th>\n",
       "      <th>1</th>\n",
       "      <td>Tamil Nadu</td>\n",
       "      <td>130058.0</td>\n",
       "      <td>72138958.0</td>\n",
       "      <td>555.0</td>\n",
       "      <td>0.911</td>\n",
       "      <td>260 Billion USD</td>\n",
       "    </tr>\n",
       "    <tr>\n",
       "      <th>2</th>\n",
       "      <td>Karnataka</td>\n",
       "      <td>191791.0</td>\n",
       "      <td>61130704.0</td>\n",
       "      <td>319.0</td>\n",
       "      <td>0.939</td>\n",
       "      <td>220 Billion USD</td>\n",
       "    </tr>\n",
       "    <tr>\n",
       "      <th>3</th>\n",
       "      <td>Andhra Pradesh</td>\n",
       "      <td>162968.0</td>\n",
       "      <td>49386799.0</td>\n",
       "      <td>303.0</td>\n",
       "      <td>0.918</td>\n",
       "      <td>150 Billion USD</td>\n",
       "    </tr>\n",
       "    <tr>\n",
       "      <th rowspan=\"2\" valign=\"top\">western zone</th>\n",
       "      <th>1</th>\n",
       "      <td>Maharashtra</td>\n",
       "      <td>307713.0</td>\n",
       "      <td>112372972.0</td>\n",
       "      <td>365.0</td>\n",
       "      <td>0.878</td>\n",
       "      <td>420 Billion USD</td>\n",
       "    </tr>\n",
       "    <tr>\n",
       "      <th>2</th>\n",
       "      <td>Gujrat</td>\n",
       "      <td>196024.0</td>\n",
       "      <td>60383628.0</td>\n",
       "      <td>308.0</td>\n",
       "      <td>0.854</td>\n",
       "      <td>240 Billion USD</td>\n",
       "    </tr>\n",
       "  </tbody>\n",
       "</table>\n",
       "</div>"
      ],
      "text/plain": [
       "                          States      Area   Population  Density  \\\n",
       "Zone          Id                                                   \n",
       "central zone  1    Uttar Pradesh  240928.0  199812341.0    828.0   \n",
       "              2   Madhya Pradesh  308245.0   72597565.0    236.0   \n",
       "eastern zone  1            Bihar   94163.0  103804637.0   1102.0   \n",
       "              2      West Bengal   88752.0   91347736.0   1029.0   \n",
       "northern zone 1        Rajasthan  342239.0   68621012.0    201.0   \n",
       "southern zone 1       Tamil Nadu  130058.0   72138958.0    555.0   \n",
       "              2        Karnataka  191791.0   61130704.0    319.0   \n",
       "              3   Andhra Pradesh  162968.0   49386799.0    303.0   \n",
       "western zone  1      Maharashtra  307713.0  112372972.0    365.0   \n",
       "              2           Gujrat  196024.0   60383628.0    308.0   \n",
       "\n",
       "                  Gender_Ratio      Nominal GDP  \n",
       "Zone          Id                                 \n",
       "central zone  1          0.879  220 Billion USD  \n",
       "              2          0.919  130 Billion USD  \n",
       "eastern zone  1          0.916   80 Billion USD  \n",
       "              2          0.951  180 Billion USD  \n",
       "northern zone 1          0.861  130 Billion USD  \n",
       "southern zone 1          0.911  260 Billion USD  \n",
       "              2          0.939  220 Billion USD  \n",
       "              3          0.918  150 Billion USD  \n",
       "western zone  1          0.878  420 Billion USD  \n",
       "              2          0.854  240 Billion USD  "
      ]
     },
     "execution_count": 23,
     "metadata": {},
     "output_type": "execute_result"
    }
   ],
   "source": [
    "multi_index= (df.sort_values(by='Zone',ascending=True)).set_index(['Zone','Id'])\n",
    "multi_index"
   ]
  },
  {
   "cell_type": "markdown",
   "metadata": {},
   "source": [
    "###### eg2: it didnt align because ['Zone','Id']..... Id should be first "
   ]
  },
  {
   "cell_type": "code",
   "execution_count": 24,
   "metadata": {},
   "outputs": [
    {
     "data": {
      "text/html": [
       "<div>\n",
       "<style scoped>\n",
       "    .dataframe tbody tr th:only-of-type {\n",
       "        vertical-align: middle;\n",
       "    }\n",
       "\n",
       "    .dataframe tbody tr th {\n",
       "        vertical-align: top;\n",
       "    }\n",
       "\n",
       "    .dataframe thead th {\n",
       "        text-align: right;\n",
       "    }\n",
       "</style>\n",
       "<table border=\"1\" class=\"dataframe\">\n",
       "  <thead>\n",
       "    <tr style=\"text-align: right;\">\n",
       "      <th></th>\n",
       "      <th></th>\n",
       "      <th>States</th>\n",
       "      <th>Area</th>\n",
       "      <th>Population</th>\n",
       "      <th>Density</th>\n",
       "      <th>Gender_Ratio</th>\n",
       "      <th>Nominal GDP</th>\n",
       "    </tr>\n",
       "    <tr>\n",
       "      <th>Zone</th>\n",
       "      <th>Id</th>\n",
       "      <th></th>\n",
       "      <th></th>\n",
       "      <th></th>\n",
       "      <th></th>\n",
       "      <th></th>\n",
       "      <th></th>\n",
       "    </tr>\n",
       "  </thead>\n",
       "  <tbody>\n",
       "    <tr>\n",
       "      <th>central zone</th>\n",
       "      <th>1</th>\n",
       "      <td>Uttar Pradesh</td>\n",
       "      <td>240928.0</td>\n",
       "      <td>199812341.0</td>\n",
       "      <td>828.0</td>\n",
       "      <td>0.879</td>\n",
       "      <td>220 Billion USD</td>\n",
       "    </tr>\n",
       "    <tr>\n",
       "      <th>western zone</th>\n",
       "      <th>1</th>\n",
       "      <td>Maharashtra</td>\n",
       "      <td>307713.0</td>\n",
       "      <td>112372972.0</td>\n",
       "      <td>365.0</td>\n",
       "      <td>0.878</td>\n",
       "      <td>420 Billion USD</td>\n",
       "    </tr>\n",
       "    <tr>\n",
       "      <th>eastern zone</th>\n",
       "      <th>1</th>\n",
       "      <td>Bihar</td>\n",
       "      <td>94163.0</td>\n",
       "      <td>103804637.0</td>\n",
       "      <td>1102.0</td>\n",
       "      <td>0.916</td>\n",
       "      <td>80 Billion USD</td>\n",
       "    </tr>\n",
       "    <tr>\n",
       "      <th>southern zone</th>\n",
       "      <th>1</th>\n",
       "      <td>Tamil Nadu</td>\n",
       "      <td>130058.0</td>\n",
       "      <td>72138958.0</td>\n",
       "      <td>555.0</td>\n",
       "      <td>0.911</td>\n",
       "      <td>260 Billion USD</td>\n",
       "    </tr>\n",
       "    <tr>\n",
       "      <th>northern zone</th>\n",
       "      <th>1</th>\n",
       "      <td>Rajasthan</td>\n",
       "      <td>342239.0</td>\n",
       "      <td>68621012.0</td>\n",
       "      <td>201.0</td>\n",
       "      <td>0.861</td>\n",
       "      <td>130 Billion USD</td>\n",
       "    </tr>\n",
       "    <tr>\n",
       "      <th>eastern zone</th>\n",
       "      <th>2</th>\n",
       "      <td>West Bengal</td>\n",
       "      <td>88752.0</td>\n",
       "      <td>91347736.0</td>\n",
       "      <td>1029.0</td>\n",
       "      <td>0.951</td>\n",
       "      <td>180 Billion USD</td>\n",
       "    </tr>\n",
       "    <tr>\n",
       "      <th>central zone</th>\n",
       "      <th>2</th>\n",
       "      <td>Madhya Pradesh</td>\n",
       "      <td>308245.0</td>\n",
       "      <td>72597565.0</td>\n",
       "      <td>236.0</td>\n",
       "      <td>0.919</td>\n",
       "      <td>130 Billion USD</td>\n",
       "    </tr>\n",
       "    <tr>\n",
       "      <th>southern zone</th>\n",
       "      <th>2</th>\n",
       "      <td>Karnataka</td>\n",
       "      <td>191791.0</td>\n",
       "      <td>61130704.0</td>\n",
       "      <td>319.0</td>\n",
       "      <td>0.939</td>\n",
       "      <td>220 Billion USD</td>\n",
       "    </tr>\n",
       "    <tr>\n",
       "      <th>western zone</th>\n",
       "      <th>2</th>\n",
       "      <td>Gujrat</td>\n",
       "      <td>196024.0</td>\n",
       "      <td>60383628.0</td>\n",
       "      <td>308.0</td>\n",
       "      <td>0.854</td>\n",
       "      <td>240 Billion USD</td>\n",
       "    </tr>\n",
       "    <tr>\n",
       "      <th>southern zone</th>\n",
       "      <th>3</th>\n",
       "      <td>Andhra Pradesh</td>\n",
       "      <td>162968.0</td>\n",
       "      <td>49386799.0</td>\n",
       "      <td>303.0</td>\n",
       "      <td>0.918</td>\n",
       "      <td>150 Billion USD</td>\n",
       "    </tr>\n",
       "  </tbody>\n",
       "</table>\n",
       "</div>"
      ],
      "text/plain": [
       "                          States      Area   Population  Density  \\\n",
       "Zone          Id                                                   \n",
       "central zone  1    Uttar Pradesh  240928.0  199812341.0    828.0   \n",
       "western zone  1      Maharashtra  307713.0  112372972.0    365.0   \n",
       "eastern zone  1            Bihar   94163.0  103804637.0   1102.0   \n",
       "southern zone 1       Tamil Nadu  130058.0   72138958.0    555.0   \n",
       "northern zone 1        Rajasthan  342239.0   68621012.0    201.0   \n",
       "eastern zone  2      West Bengal   88752.0   91347736.0   1029.0   \n",
       "central zone  2   Madhya Pradesh  308245.0   72597565.0    236.0   \n",
       "southern zone 2        Karnataka  191791.0   61130704.0    319.0   \n",
       "western zone  2           Gujrat  196024.0   60383628.0    308.0   \n",
       "southern zone 3   Andhra Pradesh  162968.0   49386799.0    303.0   \n",
       "\n",
       "                  Gender_Ratio      Nominal GDP  \n",
       "Zone          Id                                 \n",
       "central zone  1          0.879  220 Billion USD  \n",
       "western zone  1          0.878  420 Billion USD  \n",
       "eastern zone  1          0.916   80 Billion USD  \n",
       "southern zone 1          0.911  260 Billion USD  \n",
       "northern zone 1          0.861  130 Billion USD  \n",
       "eastern zone  2          0.951  180 Billion USD  \n",
       "central zone  2          0.919  130 Billion USD  \n",
       "southern zone 2          0.939  220 Billion USD  \n",
       "western zone  2          0.854  240 Billion USD  \n",
       "southern zone 3          0.918  150 Billion USD  "
      ]
     },
     "execution_count": 24,
     "metadata": {},
     "output_type": "execute_result"
    }
   ],
   "source": [
    "(df.sort_values(by='Id',ascending=True)).set_index(['Zone','Id'])  #sort based on Id"
   ]
  },
  {
   "cell_type": "code",
   "execution_count": 25,
   "metadata": {},
   "outputs": [
    {
     "data": {
      "text/html": [
       "<div>\n",
       "<style scoped>\n",
       "    .dataframe tbody tr th:only-of-type {\n",
       "        vertical-align: middle;\n",
       "    }\n",
       "\n",
       "    .dataframe tbody tr th {\n",
       "        vertical-align: top;\n",
       "    }\n",
       "\n",
       "    .dataframe thead th {\n",
       "        text-align: right;\n",
       "    }\n",
       "</style>\n",
       "<table border=\"1\" class=\"dataframe\">\n",
       "  <thead>\n",
       "    <tr style=\"text-align: right;\">\n",
       "      <th></th>\n",
       "      <th></th>\n",
       "      <th>States</th>\n",
       "      <th>Area</th>\n",
       "      <th>Population</th>\n",
       "      <th>Density</th>\n",
       "      <th>Gender_Ratio</th>\n",
       "      <th>Nominal GDP</th>\n",
       "    </tr>\n",
       "    <tr>\n",
       "      <th>Id</th>\n",
       "      <th>Zone</th>\n",
       "      <th></th>\n",
       "      <th></th>\n",
       "      <th></th>\n",
       "      <th></th>\n",
       "      <th></th>\n",
       "      <th></th>\n",
       "    </tr>\n",
       "  </thead>\n",
       "  <tbody>\n",
       "    <tr>\n",
       "      <th rowspan=\"5\" valign=\"top\">1</th>\n",
       "      <th>central zone</th>\n",
       "      <td>Uttar Pradesh</td>\n",
       "      <td>240928.0</td>\n",
       "      <td>199812341.0</td>\n",
       "      <td>828.0</td>\n",
       "      <td>0.879</td>\n",
       "      <td>220 Billion USD</td>\n",
       "    </tr>\n",
       "    <tr>\n",
       "      <th>western zone</th>\n",
       "      <td>Maharashtra</td>\n",
       "      <td>307713.0</td>\n",
       "      <td>112372972.0</td>\n",
       "      <td>365.0</td>\n",
       "      <td>0.878</td>\n",
       "      <td>420 Billion USD</td>\n",
       "    </tr>\n",
       "    <tr>\n",
       "      <th>eastern zone</th>\n",
       "      <td>Bihar</td>\n",
       "      <td>94163.0</td>\n",
       "      <td>103804637.0</td>\n",
       "      <td>1102.0</td>\n",
       "      <td>0.916</td>\n",
       "      <td>80 Billion USD</td>\n",
       "    </tr>\n",
       "    <tr>\n",
       "      <th>southern zone</th>\n",
       "      <td>Tamil Nadu</td>\n",
       "      <td>130058.0</td>\n",
       "      <td>72138958.0</td>\n",
       "      <td>555.0</td>\n",
       "      <td>0.911</td>\n",
       "      <td>260 Billion USD</td>\n",
       "    </tr>\n",
       "    <tr>\n",
       "      <th>northern zone</th>\n",
       "      <td>Rajasthan</td>\n",
       "      <td>342239.0</td>\n",
       "      <td>68621012.0</td>\n",
       "      <td>201.0</td>\n",
       "      <td>0.861</td>\n",
       "      <td>130 Billion USD</td>\n",
       "    </tr>\n",
       "    <tr>\n",
       "      <th rowspan=\"4\" valign=\"top\">2</th>\n",
       "      <th>eastern zone</th>\n",
       "      <td>West Bengal</td>\n",
       "      <td>88752.0</td>\n",
       "      <td>91347736.0</td>\n",
       "      <td>1029.0</td>\n",
       "      <td>0.951</td>\n",
       "      <td>180 Billion USD</td>\n",
       "    </tr>\n",
       "    <tr>\n",
       "      <th>central zone</th>\n",
       "      <td>Madhya Pradesh</td>\n",
       "      <td>308245.0</td>\n",
       "      <td>72597565.0</td>\n",
       "      <td>236.0</td>\n",
       "      <td>0.919</td>\n",
       "      <td>130 Billion USD</td>\n",
       "    </tr>\n",
       "    <tr>\n",
       "      <th>southern zone</th>\n",
       "      <td>Karnataka</td>\n",
       "      <td>191791.0</td>\n",
       "      <td>61130704.0</td>\n",
       "      <td>319.0</td>\n",
       "      <td>0.939</td>\n",
       "      <td>220 Billion USD</td>\n",
       "    </tr>\n",
       "    <tr>\n",
       "      <th>western zone</th>\n",
       "      <td>Gujrat</td>\n",
       "      <td>196024.0</td>\n",
       "      <td>60383628.0</td>\n",
       "      <td>308.0</td>\n",
       "      <td>0.854</td>\n",
       "      <td>240 Billion USD</td>\n",
       "    </tr>\n",
       "    <tr>\n",
       "      <th>3</th>\n",
       "      <th>southern zone</th>\n",
       "      <td>Andhra Pradesh</td>\n",
       "      <td>162968.0</td>\n",
       "      <td>49386799.0</td>\n",
       "      <td>303.0</td>\n",
       "      <td>0.918</td>\n",
       "      <td>150 Billion USD</td>\n",
       "    </tr>\n",
       "  </tbody>\n",
       "</table>\n",
       "</div>"
      ],
      "text/plain": [
       "                          States      Area   Population  Density  \\\n",
       "Id Zone                                                            \n",
       "1  central zone    Uttar Pradesh  240928.0  199812341.0    828.0   \n",
       "   western zone      Maharashtra  307713.0  112372972.0    365.0   \n",
       "   eastern zone            Bihar   94163.0  103804637.0   1102.0   \n",
       "   southern zone      Tamil Nadu  130058.0   72138958.0    555.0   \n",
       "   northern zone       Rajasthan  342239.0   68621012.0    201.0   \n",
       "2  eastern zone      West Bengal   88752.0   91347736.0   1029.0   \n",
       "   central zone   Madhya Pradesh  308245.0   72597565.0    236.0   \n",
       "   southern zone       Karnataka  191791.0   61130704.0    319.0   \n",
       "   western zone           Gujrat  196024.0   60383628.0    308.0   \n",
       "3  southern zone  Andhra Pradesh  162968.0   49386799.0    303.0   \n",
       "\n",
       "                  Gender_Ratio      Nominal GDP  \n",
       "Id Zone                                          \n",
       "1  central zone          0.879  220 Billion USD  \n",
       "   western zone          0.878  420 Billion USD  \n",
       "   eastern zone          0.916   80 Billion USD  \n",
       "   southern zone         0.911  260 Billion USD  \n",
       "   northern zone         0.861  130 Billion USD  \n",
       "2  eastern zone          0.951  180 Billion USD  \n",
       "   central zone          0.919  130 Billion USD  \n",
       "   southern zone         0.939  220 Billion USD  \n",
       "   western zone          0.854  240 Billion USD  \n",
       "3  southern zone         0.918  150 Billion USD  "
      ]
     },
     "execution_count": 25,
     "metadata": {},
     "output_type": "execute_result"
    }
   ],
   "source": [
    "(df.sort_values(by='Id',ascending=True)).set_index(['Id','Zone'])  #good enough"
   ]
  },
  {
   "cell_type": "markdown",
   "metadata": {},
   "source": [
    "### 3.2 acessing DataFrame using multi Index"
   ]
  },
  {
   "cell_type": "markdown",
   "metadata": {},
   "source": [
    "#### 3.2.1 using xs()"
   ]
  },
  {
   "cell_type": "code",
   "execution_count": 26,
   "metadata": {},
   "outputs": [
    {
     "data": {
      "text/html": [
       "<div>\n",
       "<style scoped>\n",
       "    .dataframe tbody tr th:only-of-type {\n",
       "        vertical-align: middle;\n",
       "    }\n",
       "\n",
       "    .dataframe tbody tr th {\n",
       "        vertical-align: top;\n",
       "    }\n",
       "\n",
       "    .dataframe thead th {\n",
       "        text-align: right;\n",
       "    }\n",
       "</style>\n",
       "<table border=\"1\" class=\"dataframe\">\n",
       "  <thead>\n",
       "    <tr style=\"text-align: right;\">\n",
       "      <th></th>\n",
       "      <th>States</th>\n",
       "      <th>Area</th>\n",
       "      <th>Population</th>\n",
       "      <th>Density</th>\n",
       "      <th>Gender_Ratio</th>\n",
       "      <th>Nominal GDP</th>\n",
       "    </tr>\n",
       "    <tr>\n",
       "      <th>Id</th>\n",
       "      <th></th>\n",
       "      <th></th>\n",
       "      <th></th>\n",
       "      <th></th>\n",
       "      <th></th>\n",
       "      <th></th>\n",
       "    </tr>\n",
       "  </thead>\n",
       "  <tbody>\n",
       "    <tr>\n",
       "      <th>1</th>\n",
       "      <td>Uttar Pradesh</td>\n",
       "      <td>240928.0</td>\n",
       "      <td>199812341.0</td>\n",
       "      <td>828.0</td>\n",
       "      <td>0.879</td>\n",
       "      <td>220 Billion USD</td>\n",
       "    </tr>\n",
       "    <tr>\n",
       "      <th>2</th>\n",
       "      <td>Madhya Pradesh</td>\n",
       "      <td>308245.0</td>\n",
       "      <td>72597565.0</td>\n",
       "      <td>236.0</td>\n",
       "      <td>0.919</td>\n",
       "      <td>130 Billion USD</td>\n",
       "    </tr>\n",
       "  </tbody>\n",
       "</table>\n",
       "</div>"
      ],
      "text/plain": [
       "            States      Area   Population  Density  Gender_Ratio  \\\n",
       "Id                                                                 \n",
       "1    Uttar Pradesh  240928.0  199812341.0    828.0         0.879   \n",
       "2   Madhya Pradesh  308245.0   72597565.0    236.0         0.919   \n",
       "\n",
       "        Nominal GDP  \n",
       "Id                   \n",
       "1   220 Billion USD  \n",
       "2   130 Billion USD  "
      ]
     },
     "execution_count": 26,
     "metadata": {},
     "output_type": "execute_result"
    }
   ],
   "source": [
    "multi_index.xs('central zone')"
   ]
  },
  {
   "cell_type": "markdown",
   "metadata": {},
   "source": [
    "###### for single values"
   ]
  },
  {
   "cell_type": "code",
   "execution_count": 27,
   "metadata": {},
   "outputs": [
    {
     "data": {
      "text/plain": [
       "States            Uttar Pradesh\n",
       "Area                     240928\n",
       "Population          1.99812e+08\n",
       "Density                     828\n",
       "Gender_Ratio              0.879\n",
       "Nominal GDP     220 Billion USD\n",
       "Name: (central zone, 1), dtype: object"
      ]
     },
     "execution_count": 27,
     "metadata": {},
     "output_type": "execute_result"
    }
   ],
   "source": [
    "multi_index.xs(['central zone',1])"
   ]
  },
  {
   "cell_type": "markdown",
   "metadata": {},
   "source": [
    "#### 3.2.2 using loc "
   ]
  },
  {
   "cell_type": "code",
   "execution_count": 28,
   "metadata": {},
   "outputs": [
    {
     "data": {
      "text/html": [
       "<div>\n",
       "<style scoped>\n",
       "    .dataframe tbody tr th:only-of-type {\n",
       "        vertical-align: middle;\n",
       "    }\n",
       "\n",
       "    .dataframe tbody tr th {\n",
       "        vertical-align: top;\n",
       "    }\n",
       "\n",
       "    .dataframe thead th {\n",
       "        text-align: right;\n",
       "    }\n",
       "</style>\n",
       "<table border=\"1\" class=\"dataframe\">\n",
       "  <thead>\n",
       "    <tr style=\"text-align: right;\">\n",
       "      <th></th>\n",
       "      <th>States</th>\n",
       "      <th>Area</th>\n",
       "      <th>Population</th>\n",
       "      <th>Density</th>\n",
       "      <th>Gender_Ratio</th>\n",
       "      <th>Nominal GDP</th>\n",
       "    </tr>\n",
       "    <tr>\n",
       "      <th>Id</th>\n",
       "      <th></th>\n",
       "      <th></th>\n",
       "      <th></th>\n",
       "      <th></th>\n",
       "      <th></th>\n",
       "      <th></th>\n",
       "    </tr>\n",
       "  </thead>\n",
       "  <tbody>\n",
       "    <tr>\n",
       "      <th>1</th>\n",
       "      <td>Uttar Pradesh</td>\n",
       "      <td>240928.0</td>\n",
       "      <td>199812341.0</td>\n",
       "      <td>828.0</td>\n",
       "      <td>0.879</td>\n",
       "      <td>220 Billion USD</td>\n",
       "    </tr>\n",
       "    <tr>\n",
       "      <th>2</th>\n",
       "      <td>Madhya Pradesh</td>\n",
       "      <td>308245.0</td>\n",
       "      <td>72597565.0</td>\n",
       "      <td>236.0</td>\n",
       "      <td>0.919</td>\n",
       "      <td>130 Billion USD</td>\n",
       "    </tr>\n",
       "  </tbody>\n",
       "</table>\n",
       "</div>"
      ],
      "text/plain": [
       "            States      Area   Population  Density  Gender_Ratio  \\\n",
       "Id                                                                 \n",
       "1    Uttar Pradesh  240928.0  199812341.0    828.0         0.879   \n",
       "2   Madhya Pradesh  308245.0   72597565.0    236.0         0.919   \n",
       "\n",
       "        Nominal GDP  \n",
       "Id                   \n",
       "1   220 Billion USD  \n",
       "2   130 Billion USD  "
      ]
     },
     "execution_count": 28,
     "metadata": {},
     "output_type": "execute_result"
    }
   ],
   "source": [
    "multi_index.loc['central zone']"
   ]
  },
  {
   "cell_type": "markdown",
   "metadata": {},
   "source": [
    "##### for single values"
   ]
  },
  {
   "cell_type": "code",
   "execution_count": 29,
   "metadata": {},
   "outputs": [
    {
     "data": {
      "text/plain": [
       "States            Uttar Pradesh\n",
       "Area                     240928\n",
       "Population          1.99812e+08\n",
       "Density                     828\n",
       "Gender_Ratio              0.879\n",
       "Nominal GDP     220 Billion USD\n",
       "Name: (central zone, 1), dtype: object"
      ]
     },
     "execution_count": 29,
     "metadata": {},
     "output_type": "execute_result"
    }
   ],
   "source": [
    "multi_index.loc['central zone',1]"
   ]
  },
  {
   "cell_type": "markdown",
   "metadata": {},
   "source": [
    "#### 3.2.3 using iloc"
   ]
  },
  {
   "cell_type": "code",
   "execution_count": 30,
   "metadata": {},
   "outputs": [
    {
     "data": {
      "text/html": [
       "<div>\n",
       "<style scoped>\n",
       "    .dataframe tbody tr th:only-of-type {\n",
       "        vertical-align: middle;\n",
       "    }\n",
       "\n",
       "    .dataframe tbody tr th {\n",
       "        vertical-align: top;\n",
       "    }\n",
       "\n",
       "    .dataframe thead th {\n",
       "        text-align: right;\n",
       "    }\n",
       "</style>\n",
       "<table border=\"1\" class=\"dataframe\">\n",
       "  <thead>\n",
       "    <tr style=\"text-align: right;\">\n",
       "      <th></th>\n",
       "      <th></th>\n",
       "      <th>States</th>\n",
       "      <th>Area</th>\n",
       "      <th>Population</th>\n",
       "      <th>Density</th>\n",
       "      <th>Gender_Ratio</th>\n",
       "      <th>Nominal GDP</th>\n",
       "    </tr>\n",
       "    <tr>\n",
       "      <th>Zone</th>\n",
       "      <th>Id</th>\n",
       "      <th></th>\n",
       "      <th></th>\n",
       "      <th></th>\n",
       "      <th></th>\n",
       "      <th></th>\n",
       "      <th></th>\n",
       "    </tr>\n",
       "  </thead>\n",
       "  <tbody>\n",
       "    <tr>\n",
       "      <th rowspan=\"2\" valign=\"top\">central zone</th>\n",
       "      <th>1</th>\n",
       "      <td>Uttar Pradesh</td>\n",
       "      <td>240928.0</td>\n",
       "      <td>199812341.0</td>\n",
       "      <td>828.0</td>\n",
       "      <td>0.879</td>\n",
       "      <td>220 Billion USD</td>\n",
       "    </tr>\n",
       "    <tr>\n",
       "      <th>2</th>\n",
       "      <td>Madhya Pradesh</td>\n",
       "      <td>308245.0</td>\n",
       "      <td>72597565.0</td>\n",
       "      <td>236.0</td>\n",
       "      <td>0.919</td>\n",
       "      <td>130 Billion USD</td>\n",
       "    </tr>\n",
       "    <tr>\n",
       "      <th rowspan=\"2\" valign=\"top\">eastern zone</th>\n",
       "      <th>1</th>\n",
       "      <td>Bihar</td>\n",
       "      <td>94163.0</td>\n",
       "      <td>103804637.0</td>\n",
       "      <td>1102.0</td>\n",
       "      <td>0.916</td>\n",
       "      <td>80 Billion USD</td>\n",
       "    </tr>\n",
       "    <tr>\n",
       "      <th>2</th>\n",
       "      <td>West Bengal</td>\n",
       "      <td>88752.0</td>\n",
       "      <td>91347736.0</td>\n",
       "      <td>1029.0</td>\n",
       "      <td>0.951</td>\n",
       "      <td>180 Billion USD</td>\n",
       "    </tr>\n",
       "    <tr>\n",
       "      <th>northern zone</th>\n",
       "      <th>1</th>\n",
       "      <td>Rajasthan</td>\n",
       "      <td>342239.0</td>\n",
       "      <td>68621012.0</td>\n",
       "      <td>201.0</td>\n",
       "      <td>0.861</td>\n",
       "      <td>130 Billion USD</td>\n",
       "    </tr>\n",
       "    <tr>\n",
       "      <th rowspan=\"3\" valign=\"top\">southern zone</th>\n",
       "      <th>1</th>\n",
       "      <td>Tamil Nadu</td>\n",
       "      <td>130058.0</td>\n",
       "      <td>72138958.0</td>\n",
       "      <td>555.0</td>\n",
       "      <td>0.911</td>\n",
       "      <td>260 Billion USD</td>\n",
       "    </tr>\n",
       "    <tr>\n",
       "      <th>2</th>\n",
       "      <td>Karnataka</td>\n",
       "      <td>191791.0</td>\n",
       "      <td>61130704.0</td>\n",
       "      <td>319.0</td>\n",
       "      <td>0.939</td>\n",
       "      <td>220 Billion USD</td>\n",
       "    </tr>\n",
       "    <tr>\n",
       "      <th>3</th>\n",
       "      <td>Andhra Pradesh</td>\n",
       "      <td>162968.0</td>\n",
       "      <td>49386799.0</td>\n",
       "      <td>303.0</td>\n",
       "      <td>0.918</td>\n",
       "      <td>150 Billion USD</td>\n",
       "    </tr>\n",
       "    <tr>\n",
       "      <th rowspan=\"2\" valign=\"top\">western zone</th>\n",
       "      <th>1</th>\n",
       "      <td>Maharashtra</td>\n",
       "      <td>307713.0</td>\n",
       "      <td>112372972.0</td>\n",
       "      <td>365.0</td>\n",
       "      <td>0.878</td>\n",
       "      <td>420 Billion USD</td>\n",
       "    </tr>\n",
       "    <tr>\n",
       "      <th>2</th>\n",
       "      <td>Gujrat</td>\n",
       "      <td>196024.0</td>\n",
       "      <td>60383628.0</td>\n",
       "      <td>308.0</td>\n",
       "      <td>0.854</td>\n",
       "      <td>240 Billion USD</td>\n",
       "    </tr>\n",
       "  </tbody>\n",
       "</table>\n",
       "</div>"
      ],
      "text/plain": [
       "                          States      Area   Population  Density  \\\n",
       "Zone          Id                                                   \n",
       "central zone  1    Uttar Pradesh  240928.0  199812341.0    828.0   \n",
       "              2   Madhya Pradesh  308245.0   72597565.0    236.0   \n",
       "eastern zone  1            Bihar   94163.0  103804637.0   1102.0   \n",
       "              2      West Bengal   88752.0   91347736.0   1029.0   \n",
       "northern zone 1        Rajasthan  342239.0   68621012.0    201.0   \n",
       "southern zone 1       Tamil Nadu  130058.0   72138958.0    555.0   \n",
       "              2        Karnataka  191791.0   61130704.0    319.0   \n",
       "              3   Andhra Pradesh  162968.0   49386799.0    303.0   \n",
       "western zone  1      Maharashtra  307713.0  112372972.0    365.0   \n",
       "              2           Gujrat  196024.0   60383628.0    308.0   \n",
       "\n",
       "                  Gender_Ratio      Nominal GDP  \n",
       "Zone          Id                                 \n",
       "central zone  1          0.879  220 Billion USD  \n",
       "              2          0.919  130 Billion USD  \n",
       "eastern zone  1          0.916   80 Billion USD  \n",
       "              2          0.951  180 Billion USD  \n",
       "northern zone 1          0.861  130 Billion USD  \n",
       "southern zone 1          0.911  260 Billion USD  \n",
       "              2          0.939  220 Billion USD  \n",
       "              3          0.918  150 Billion USD  \n",
       "western zone  1          0.878  420 Billion USD  \n",
       "              2          0.854  240 Billion USD  "
      ]
     },
     "execution_count": 30,
     "metadata": {},
     "output_type": "execute_result"
    }
   ],
   "source": [
    "multi_index"
   ]
  },
  {
   "cell_type": "markdown",
   "metadata": {},
   "source": [
    "Uttar Pradesh has... integer index 0  \n",
    "Madhya Pradesh has... integer index 1  \n",
    "Bihar has integer... index 2  \n",
    "West Bengal has... integer index 2   and so on...."
   ]
  },
  {
   "cell_type": "code",
   "execution_count": 31,
   "metadata": {},
   "outputs": [
    {
     "data": {
      "text/plain": [
       "States            Uttar Pradesh\n",
       "Area                     240928\n",
       "Population          1.99812e+08\n",
       "Density                     828\n",
       "Gender_Ratio              0.879\n",
       "Nominal GDP     220 Billion USD\n",
       "Name: (central zone, 1), dtype: object"
      ]
     },
     "execution_count": 31,
     "metadata": {},
     "output_type": "execute_result"
    }
   ],
   "source": [
    "multi_index.iloc[0]"
   ]
  },
  {
   "cell_type": "code",
   "execution_count": 32,
   "metadata": {},
   "outputs": [
    {
     "data": {
      "text/plain": [
       "States           Madhya Pradesh\n",
       "Area                     308245\n",
       "Population          7.25976e+07\n",
       "Density                     236\n",
       "Gender_Ratio              0.919\n",
       "Nominal GDP     130 Billion USD\n",
       "Name: (central zone, 2), dtype: object"
      ]
     },
     "execution_count": 32,
     "metadata": {},
     "output_type": "execute_result"
    }
   ],
   "source": [
    "multi_index.iloc[1]"
   ]
  },
  {
   "cell_type": "code",
   "execution_count": 33,
   "metadata": {},
   "outputs": [
    {
     "data": {
      "text/plain": [
       "States                Rajasthan\n",
       "Area                     342239\n",
       "Population           6.8621e+07\n",
       "Density                     201\n",
       "Gender_Ratio              0.861\n",
       "Nominal GDP     130 Billion USD\n",
       "Name: (northern zone, 1), dtype: object"
      ]
     },
     "execution_count": 33,
     "metadata": {},
     "output_type": "execute_result"
    }
   ],
   "source": [
    "multi_index.iloc[4]"
   ]
  },
  {
   "cell_type": "markdown",
   "metadata": {},
   "source": [
    "# 4.Grouping \n",
    "Split--->aply function -->combine Result\n",
    "\n",
    "##### what filter did in \"1. Boolean Indexing\", we can use groupby() ---for creating the group\n",
    "##### get_group --- to call the group"
   ]
  },
  {
   "cell_type": "code",
   "execution_count": null,
   "metadata": {},
   "outputs": [],
   "source": [
    " ![title](pictures/img3.gif \"A visual representation of a groupby operation\") "
   ]
  },
  {
   "cell_type": "code",
   "execution_count": 34,
   "metadata": {},
   "outputs": [
    {
     "data": {
      "text/html": [
       "<div>\n",
       "<style scoped>\n",
       "    .dataframe tbody tr th:only-of-type {\n",
       "        vertical-align: middle;\n",
       "    }\n",
       "\n",
       "    .dataframe tbody tr th {\n",
       "        vertical-align: top;\n",
       "    }\n",
       "\n",
       "    .dataframe thead th {\n",
       "        text-align: right;\n",
       "    }\n",
       "</style>\n",
       "<table border=\"1\" class=\"dataframe\">\n",
       "  <thead>\n",
       "    <tr style=\"text-align: right;\">\n",
       "      <th></th>\n",
       "      <th>States</th>\n",
       "      <th>Area</th>\n",
       "      <th>Population</th>\n",
       "      <th>Density</th>\n",
       "      <th>Gender_Ratio</th>\n",
       "      <th>Zone</th>\n",
       "      <th>Nominal GDP</th>\n",
       "      <th>Id</th>\n",
       "    </tr>\n",
       "  </thead>\n",
       "  <tbody>\n",
       "    <tr>\n",
       "      <th>0</th>\n",
       "      <td>Uttar Pradesh</td>\n",
       "      <td>240928.0</td>\n",
       "      <td>199812341.0</td>\n",
       "      <td>828.0</td>\n",
       "      <td>0.879</td>\n",
       "      <td>central zone</td>\n",
       "      <td>220 Billion USD</td>\n",
       "      <td>1</td>\n",
       "    </tr>\n",
       "    <tr>\n",
       "      <th>1</th>\n",
       "      <td>Maharashtra</td>\n",
       "      <td>307713.0</td>\n",
       "      <td>112372972.0</td>\n",
       "      <td>365.0</td>\n",
       "      <td>0.878</td>\n",
       "      <td>western zone</td>\n",
       "      <td>420 Billion USD</td>\n",
       "      <td>1</td>\n",
       "    </tr>\n",
       "    <tr>\n",
       "      <th>2</th>\n",
       "      <td>Bihar</td>\n",
       "      <td>94163.0</td>\n",
       "      <td>103804637.0</td>\n",
       "      <td>1102.0</td>\n",
       "      <td>0.916</td>\n",
       "      <td>eastern zone</td>\n",
       "      <td>80 Billion USD</td>\n",
       "      <td>1</td>\n",
       "    </tr>\n",
       "    <tr>\n",
       "      <th>3</th>\n",
       "      <td>West Bengal</td>\n",
       "      <td>88752.0</td>\n",
       "      <td>91347736.0</td>\n",
       "      <td>1029.0</td>\n",
       "      <td>0.951</td>\n",
       "      <td>eastern zone</td>\n",
       "      <td>180 Billion USD</td>\n",
       "      <td>2</td>\n",
       "    </tr>\n",
       "    <tr>\n",
       "      <th>4</th>\n",
       "      <td>Madhya Pradesh</td>\n",
       "      <td>308245.0</td>\n",
       "      <td>72597565.0</td>\n",
       "      <td>236.0</td>\n",
       "      <td>0.919</td>\n",
       "      <td>central zone</td>\n",
       "      <td>130 Billion USD</td>\n",
       "      <td>2</td>\n",
       "    </tr>\n",
       "    <tr>\n",
       "      <th>5</th>\n",
       "      <td>Tamil Nadu</td>\n",
       "      <td>130058.0</td>\n",
       "      <td>72138958.0</td>\n",
       "      <td>555.0</td>\n",
       "      <td>0.911</td>\n",
       "      <td>southern zone</td>\n",
       "      <td>260 Billion USD</td>\n",
       "      <td>1</td>\n",
       "    </tr>\n",
       "    <tr>\n",
       "      <th>6</th>\n",
       "      <td>Rajasthan</td>\n",
       "      <td>342239.0</td>\n",
       "      <td>68621012.0</td>\n",
       "      <td>201.0</td>\n",
       "      <td>0.861</td>\n",
       "      <td>northern zone</td>\n",
       "      <td>130 Billion USD</td>\n",
       "      <td>1</td>\n",
       "    </tr>\n",
       "    <tr>\n",
       "      <th>7</th>\n",
       "      <td>Karnataka</td>\n",
       "      <td>191791.0</td>\n",
       "      <td>61130704.0</td>\n",
       "      <td>319.0</td>\n",
       "      <td>0.939</td>\n",
       "      <td>southern zone</td>\n",
       "      <td>220 Billion USD</td>\n",
       "      <td>2</td>\n",
       "    </tr>\n",
       "    <tr>\n",
       "      <th>8</th>\n",
       "      <td>Gujrat</td>\n",
       "      <td>196024.0</td>\n",
       "      <td>60383628.0</td>\n",
       "      <td>308.0</td>\n",
       "      <td>0.854</td>\n",
       "      <td>western zone</td>\n",
       "      <td>240 Billion USD</td>\n",
       "      <td>2</td>\n",
       "    </tr>\n",
       "    <tr>\n",
       "      <th>9</th>\n",
       "      <td>Andhra Pradesh</td>\n",
       "      <td>162968.0</td>\n",
       "      <td>49386799.0</td>\n",
       "      <td>303.0</td>\n",
       "      <td>0.918</td>\n",
       "      <td>southern zone</td>\n",
       "      <td>150 Billion USD</td>\n",
       "      <td>3</td>\n",
       "    </tr>\n",
       "  </tbody>\n",
       "</table>\n",
       "</div>"
      ],
      "text/plain": [
       "           States      Area   Population  Density  Gender_Ratio  \\\n",
       "0   Uttar Pradesh  240928.0  199812341.0    828.0         0.879   \n",
       "1     Maharashtra  307713.0  112372972.0    365.0         0.878   \n",
       "2           Bihar   94163.0  103804637.0   1102.0         0.916   \n",
       "3     West Bengal   88752.0   91347736.0   1029.0         0.951   \n",
       "4  Madhya Pradesh  308245.0   72597565.0    236.0         0.919   \n",
       "5      Tamil Nadu  130058.0   72138958.0    555.0         0.911   \n",
       "6       Rajasthan  342239.0   68621012.0    201.0         0.861   \n",
       "7       Karnataka  191791.0   61130704.0    319.0         0.939   \n",
       "8          Gujrat  196024.0   60383628.0    308.0         0.854   \n",
       "9  Andhra Pradesh  162968.0   49386799.0    303.0         0.918   \n",
       "\n",
       "            Zone      Nominal GDP  Id  \n",
       "0   central zone  220 Billion USD   1  \n",
       "1   western zone  420 Billion USD   1  \n",
       "2   eastern zone   80 Billion USD   1  \n",
       "3   eastern zone  180 Billion USD   2  \n",
       "4   central zone  130 Billion USD   2  \n",
       "5  southern zone  260 Billion USD   1  \n",
       "6  northern zone  130 Billion USD   1  \n",
       "7  southern zone  220 Billion USD   2  \n",
       "8   western zone  240 Billion USD   2  \n",
       "9  southern zone  150 Billion USD   3  "
      ]
     },
     "execution_count": 34,
     "metadata": {},
     "output_type": "execute_result"
    }
   ],
   "source": [
    "df"
   ]
  },
  {
   "cell_type": "markdown",
   "metadata": {},
   "source": [
    "### 4.1 groupby()"
   ]
  },
  {
   "cell_type": "code",
   "execution_count": 35,
   "metadata": {},
   "outputs": [
    {
     "data": {
      "text/plain": [
       "<pandas.core.groupby.generic.DataFrameGroupBy object at 0x00000224350D8F48>"
      ]
     },
     "execution_count": 35,
     "metadata": {},
     "output_type": "execute_result"
    }
   ],
   "source": [
    "zone_group=df.groupby(['Zone'])  #grouping based on zones\n",
    "zone_group"
   ]
  },
  {
   "cell_type": "code",
   "execution_count": 36,
   "metadata": {},
   "outputs": [
    {
     "data": {
      "text/html": [
       "<div>\n",
       "<style scoped>\n",
       "    .dataframe tbody tr th:only-of-type {\n",
       "        vertical-align: middle;\n",
       "    }\n",
       "\n",
       "    .dataframe tbody tr th {\n",
       "        vertical-align: top;\n",
       "    }\n",
       "\n",
       "    .dataframe thead th {\n",
       "        text-align: right;\n",
       "    }\n",
       "</style>\n",
       "<table border=\"1\" class=\"dataframe\">\n",
       "  <thead>\n",
       "    <tr style=\"text-align: right;\">\n",
       "      <th></th>\n",
       "      <th>States</th>\n",
       "      <th>Area</th>\n",
       "      <th>Population</th>\n",
       "      <th>Density</th>\n",
       "      <th>Gender_Ratio</th>\n",
       "      <th>Zone</th>\n",
       "      <th>Nominal GDP</th>\n",
       "      <th>Id</th>\n",
       "    </tr>\n",
       "  </thead>\n",
       "  <tbody>\n",
       "    <tr>\n",
       "      <th>0</th>\n",
       "      <td>Uttar Pradesh</td>\n",
       "      <td>240928.0</td>\n",
       "      <td>199812341.0</td>\n",
       "      <td>828.0</td>\n",
       "      <td>0.879</td>\n",
       "      <td>central zone</td>\n",
       "      <td>220 Billion USD</td>\n",
       "      <td>1</td>\n",
       "    </tr>\n",
       "    <tr>\n",
       "      <th>4</th>\n",
       "      <td>Madhya Pradesh</td>\n",
       "      <td>308245.0</td>\n",
       "      <td>72597565.0</td>\n",
       "      <td>236.0</td>\n",
       "      <td>0.919</td>\n",
       "      <td>central zone</td>\n",
       "      <td>130 Billion USD</td>\n",
       "      <td>2</td>\n",
       "    </tr>\n",
       "  </tbody>\n",
       "</table>\n",
       "</div>"
      ],
      "text/plain": [
       "           States      Area   Population  Density  Gender_Ratio          Zone  \\\n",
       "0   Uttar Pradesh  240928.0  199812341.0    828.0         0.879  central zone   \n",
       "4  Madhya Pradesh  308245.0   72597565.0    236.0         0.919  central zone   \n",
       "\n",
       "       Nominal GDP  Id  \n",
       "0  220 Billion USD   1  \n",
       "4  130 Billion USD   2  "
      ]
     },
     "execution_count": 36,
     "metadata": {},
     "output_type": "execute_result"
    }
   ],
   "source": [
    "zone_group.get_group('central zone')  #similar to running a filter"
   ]
  },
  {
   "cell_type": "markdown",
   "metadata": {},
   "source": [
    "### 4.2 grouping and multi indexing intuition"
   ]
  },
  {
   "cell_type": "code",
   "execution_count": 37,
   "metadata": {},
   "outputs": [
    {
     "data": {
      "text/plain": [
       "Zone           Id\n",
       "central zone   1     1\n",
       "               2     1\n",
       "eastern zone   1     1\n",
       "               2     1\n",
       "northern zone  1     1\n",
       "southern zone  1     1\n",
       "               2     1\n",
       "               3     1\n",
       "western zone   1     1\n",
       "               2     1\n",
       "Name: Id, dtype: int64"
      ]
     },
     "execution_count": 37,
     "metadata": {},
     "output_type": "execute_result"
    }
   ],
   "source": [
    "zone_group['Id'].value_counts()    #zone is 1st index, Id is 2nd index"
   ]
  },
  {
   "cell_type": "code",
   "execution_count": 38,
   "metadata": {},
   "outputs": [
    {
     "data": {
      "text/plain": [
       "Zone           Nominal GDP    \n",
       "central zone   130 Billion USD    1\n",
       "               220 Billion USD    1\n",
       "eastern zone   180 Billion USD    1\n",
       "               80 Billion USD     1\n",
       "northern zone  130 Billion USD    1\n",
       "southern zone  150 Billion USD    1\n",
       "               220 Billion USD    1\n",
       "               260 Billion USD    1\n",
       "western zone   240 Billion USD    1\n",
       "               420 Billion USD    1\n",
       "Name: Nominal GDP, dtype: int64"
      ]
     },
     "execution_count": 38,
     "metadata": {},
     "output_type": "execute_result"
    }
   ],
   "source": [
    "zone_group['Nominal GDP'].value_counts()"
   ]
  },
  {
   "cell_type": "markdown",
   "metadata": {},
   "source": [
    "# 5. grouping and aggregation"
   ]
  },
  {
   "cell_type": "markdown",
   "metadata": {},
   "source": [
    "### 5.1 sum()  # Find total population in each zone?"
   ]
  },
  {
   "cell_type": "code",
   "execution_count": 39,
   "metadata": {},
   "outputs": [
    {
     "data": {
      "text/plain": [
       "Zone\n",
       "central zone     272409906.0\n",
       "eastern zone     195152373.0\n",
       "northern zone     68621012.0\n",
       "southern zone    182656461.0\n",
       "western zone     172756600.0\n",
       "Name: Population, dtype: float64"
      ]
     },
     "execution_count": 39,
     "metadata": {},
     "output_type": "execute_result"
    }
   ],
   "source": [
    "zone_group['Population'].sum()"
   ]
  },
  {
   "cell_type": "markdown",
   "metadata": {},
   "source": [
    "### 5.2  Find percentage population of each zone?"
   ]
  },
  {
   "cell_type": "code",
   "execution_count": 40,
   "metadata": {},
   "outputs": [
    {
     "data": {
      "text/plain": [
       "891596352.0"
      ]
     },
     "execution_count": 40,
     "metadata": {},
     "output_type": "execute_result"
    }
   ],
   "source": [
    "total_population=sum(zone_group['Population'].sum())  #total population\n",
    "total_population"
   ]
  },
  {
   "cell_type": "code",
   "execution_count": 41,
   "metadata": {},
   "outputs": [
    {
     "data": {
      "text/plain": [
       "Zone\n",
       "central zone     0.305531\n",
       "eastern zone     0.218880\n",
       "northern zone    0.076964\n",
       "southern zone    0.204865\n",
       "western zone     0.193761\n",
       "Name: Population, dtype: float64"
      ]
     },
     "execution_count": 41,
     "metadata": {},
     "output_type": "execute_result"
    }
   ],
   "source": [
    "zone_group['Population'].sum()/total_population  #population share of each zone in float value"
   ]
  },
  {
   "cell_type": "code",
   "execution_count": 42,
   "metadata": {},
   "outputs": [
    {
     "data": {
      "text/plain": [
       "Zone\n",
       "central zone     30.553053\n",
       "eastern zone     21.887973\n",
       "northern zone     7.696421\n",
       "southern zone    20.486452\n",
       "western zone     19.376100\n",
       "Name: Population, dtype: float64"
      ]
     },
     "execution_count": 42,
     "metadata": {},
     "output_type": "execute_result"
    }
   ],
   "source": [
    "(zone_group['Population'].sum()/total_population)*100 #final answer: percentage population of each zone"
   ]
  },
  {
   "cell_type": "markdown",
   "metadata": {},
   "source": [
    "### 5.3 Average gdp of each zone"
   ]
  },
  {
   "cell_type": "code",
   "execution_count": 43,
   "metadata": {},
   "outputs": [
    {
     "ename": "DataError",
     "evalue": "No numeric types to aggregate",
     "output_type": "error",
     "traceback": [
      "\u001b[1;31m---------------------------------------------------------------------------\u001b[0m",
      "\u001b[1;31mDataError\u001b[0m                                 Traceback (most recent call last)",
      "\u001b[1;32m<ipython-input-43-b807877925d2>\u001b[0m in \u001b[0;36m<module>\u001b[1;34m\u001b[0m\n\u001b[1;32m----> 1\u001b[1;33m \u001b[0mzone_group\u001b[0m\u001b[1;33m[\u001b[0m\u001b[1;34m'Nominal GDP'\u001b[0m\u001b[1;33m]\u001b[0m\u001b[1;33m.\u001b[0m\u001b[0mmean\u001b[0m\u001b[1;33m(\u001b[0m\u001b[1;33m)\u001b[0m  \u001b[1;31m#error beacuse 'Nominal GDP' has character as well numerical value\u001b[0m\u001b[1;33m\u001b[0m\u001b[1;33m\u001b[0m\u001b[0m\n\u001b[0m",
      "\u001b[1;32mC:\\ProgramData\\Anaconda3\\lib\\site-packages\\pandas\\core\\groupby\\groupby.py\u001b[0m in \u001b[0;36mmean\u001b[1;34m(self, *args, **kwargs)\u001b[0m\n\u001b[0;32m   1230\u001b[0m         \u001b[0mnv\u001b[0m\u001b[1;33m.\u001b[0m\u001b[0mvalidate_groupby_func\u001b[0m\u001b[1;33m(\u001b[0m\u001b[1;34m\"mean\"\u001b[0m\u001b[1;33m,\u001b[0m \u001b[0margs\u001b[0m\u001b[1;33m,\u001b[0m \u001b[0mkwargs\u001b[0m\u001b[1;33m,\u001b[0m \u001b[1;33m[\u001b[0m\u001b[1;34m\"numeric_only\"\u001b[0m\u001b[1;33m]\u001b[0m\u001b[1;33m)\u001b[0m\u001b[1;33m\u001b[0m\u001b[1;33m\u001b[0m\u001b[0m\n\u001b[0;32m   1231\u001b[0m         return self._cython_agg_general(\n\u001b[1;32m-> 1232\u001b[1;33m             \u001b[1;34m\"mean\"\u001b[0m\u001b[1;33m,\u001b[0m \u001b[0malt\u001b[0m\u001b[1;33m=\u001b[0m\u001b[1;32mlambda\u001b[0m \u001b[0mx\u001b[0m\u001b[1;33m,\u001b[0m \u001b[0maxis\u001b[0m\u001b[1;33m:\u001b[0m \u001b[0mSeries\u001b[0m\u001b[1;33m(\u001b[0m\u001b[0mx\u001b[0m\u001b[1;33m)\u001b[0m\u001b[1;33m.\u001b[0m\u001b[0mmean\u001b[0m\u001b[1;33m(\u001b[0m\u001b[1;33m**\u001b[0m\u001b[0mkwargs\u001b[0m\u001b[1;33m)\u001b[0m\u001b[1;33m,\u001b[0m \u001b[1;33m**\u001b[0m\u001b[0mkwargs\u001b[0m\u001b[1;33m\u001b[0m\u001b[1;33m\u001b[0m\u001b[0m\n\u001b[0m\u001b[0;32m   1233\u001b[0m         )\n\u001b[0;32m   1234\u001b[0m \u001b[1;33m\u001b[0m\u001b[0m\n",
      "\u001b[1;32mC:\\ProgramData\\Anaconda3\\lib\\site-packages\\pandas\\core\\groupby\\groupby.py\u001b[0m in \u001b[0;36m_cython_agg_general\u001b[1;34m(self, how, alt, numeric_only, min_count)\u001b[0m\n\u001b[0;32m    905\u001b[0m \u001b[1;33m\u001b[0m\u001b[0m\n\u001b[0;32m    906\u001b[0m         \u001b[1;32mif\u001b[0m \u001b[0mlen\u001b[0m\u001b[1;33m(\u001b[0m\u001b[0moutput\u001b[0m\u001b[1;33m)\u001b[0m \u001b[1;33m==\u001b[0m \u001b[1;36m0\u001b[0m\u001b[1;33m:\u001b[0m\u001b[1;33m\u001b[0m\u001b[1;33m\u001b[0m\u001b[0m\n\u001b[1;32m--> 907\u001b[1;33m             \u001b[1;32mraise\u001b[0m \u001b[0mDataError\u001b[0m\u001b[1;33m(\u001b[0m\u001b[1;34m\"No numeric types to aggregate\"\u001b[0m\u001b[1;33m)\u001b[0m\u001b[1;33m\u001b[0m\u001b[1;33m\u001b[0m\u001b[0m\n\u001b[0m\u001b[0;32m    908\u001b[0m \u001b[1;33m\u001b[0m\u001b[0m\n\u001b[0;32m    909\u001b[0m         \u001b[1;32mreturn\u001b[0m \u001b[0mself\u001b[0m\u001b[1;33m.\u001b[0m\u001b[0m_wrap_aggregated_output\u001b[0m\u001b[1;33m(\u001b[0m\u001b[0moutput\u001b[0m\u001b[1;33m)\u001b[0m\u001b[1;33m\u001b[0m\u001b[1;33m\u001b[0m\u001b[0m\n",
      "\u001b[1;31mDataError\u001b[0m: No numeric types to aggregate"
     ]
    }
   ],
   "source": [
    "zone_group['Nominal GDP'].mean()  #error beacuse 'Nominal GDP' has character as well numerical value"
   ]
  },
  {
   "cell_type": "markdown",
   "metadata": {},
   "source": [
    "### Note: therefore we need to clean the data first \n",
    "##### by cleaning we mean to remove \" Billion USD\" except numerical part ....cannot do that to grouped data... must do it in orignal data frame"
   ]
  },
  {
   "cell_type": "code",
   "execution_count": 44,
   "metadata": {},
   "outputs": [
    {
     "data": {
      "text/html": [
       "<div>\n",
       "<style scoped>\n",
       "    .dataframe tbody tr th:only-of-type {\n",
       "        vertical-align: middle;\n",
       "    }\n",
       "\n",
       "    .dataframe tbody tr th {\n",
       "        vertical-align: top;\n",
       "    }\n",
       "\n",
       "    .dataframe thead th {\n",
       "        text-align: right;\n",
       "    }\n",
       "</style>\n",
       "<table border=\"1\" class=\"dataframe\">\n",
       "  <thead>\n",
       "    <tr style=\"text-align: right;\">\n",
       "      <th></th>\n",
       "      <th>States</th>\n",
       "      <th>Area</th>\n",
       "      <th>Population</th>\n",
       "      <th>Density</th>\n",
       "      <th>Gender_Ratio</th>\n",
       "      <th>Zone</th>\n",
       "      <th>Nominal GDP</th>\n",
       "      <th>Id</th>\n",
       "    </tr>\n",
       "  </thead>\n",
       "  <tbody>\n",
       "    <tr>\n",
       "      <th>0</th>\n",
       "      <td>Uttar Pradesh</td>\n",
       "      <td>240928.0</td>\n",
       "      <td>199812341.0</td>\n",
       "      <td>828.0</td>\n",
       "      <td>0.879</td>\n",
       "      <td>central zone</td>\n",
       "      <td>220</td>\n",
       "      <td>1</td>\n",
       "    </tr>\n",
       "    <tr>\n",
       "      <th>1</th>\n",
       "      <td>Maharashtra</td>\n",
       "      <td>307713.0</td>\n",
       "      <td>112372972.0</td>\n",
       "      <td>365.0</td>\n",
       "      <td>0.878</td>\n",
       "      <td>western zone</td>\n",
       "      <td>420</td>\n",
       "      <td>1</td>\n",
       "    </tr>\n",
       "    <tr>\n",
       "      <th>2</th>\n",
       "      <td>Bihar</td>\n",
       "      <td>94163.0</td>\n",
       "      <td>103804637.0</td>\n",
       "      <td>1102.0</td>\n",
       "      <td>0.916</td>\n",
       "      <td>eastern zone</td>\n",
       "      <td>80</td>\n",
       "      <td>1</td>\n",
       "    </tr>\n",
       "    <tr>\n",
       "      <th>3</th>\n",
       "      <td>West Bengal</td>\n",
       "      <td>88752.0</td>\n",
       "      <td>91347736.0</td>\n",
       "      <td>1029.0</td>\n",
       "      <td>0.951</td>\n",
       "      <td>eastern zone</td>\n",
       "      <td>180</td>\n",
       "      <td>2</td>\n",
       "    </tr>\n",
       "    <tr>\n",
       "      <th>4</th>\n",
       "      <td>Madhya Pradesh</td>\n",
       "      <td>308245.0</td>\n",
       "      <td>72597565.0</td>\n",
       "      <td>236.0</td>\n",
       "      <td>0.919</td>\n",
       "      <td>central zone</td>\n",
       "      <td>130</td>\n",
       "      <td>2</td>\n",
       "    </tr>\n",
       "    <tr>\n",
       "      <th>5</th>\n",
       "      <td>Tamil Nadu</td>\n",
       "      <td>130058.0</td>\n",
       "      <td>72138958.0</td>\n",
       "      <td>555.0</td>\n",
       "      <td>0.911</td>\n",
       "      <td>southern zone</td>\n",
       "      <td>260</td>\n",
       "      <td>1</td>\n",
       "    </tr>\n",
       "    <tr>\n",
       "      <th>6</th>\n",
       "      <td>Rajasthan</td>\n",
       "      <td>342239.0</td>\n",
       "      <td>68621012.0</td>\n",
       "      <td>201.0</td>\n",
       "      <td>0.861</td>\n",
       "      <td>northern zone</td>\n",
       "      <td>130</td>\n",
       "      <td>1</td>\n",
       "    </tr>\n",
       "    <tr>\n",
       "      <th>7</th>\n",
       "      <td>Karnataka</td>\n",
       "      <td>191791.0</td>\n",
       "      <td>61130704.0</td>\n",
       "      <td>319.0</td>\n",
       "      <td>0.939</td>\n",
       "      <td>southern zone</td>\n",
       "      <td>220</td>\n",
       "      <td>2</td>\n",
       "    </tr>\n",
       "    <tr>\n",
       "      <th>8</th>\n",
       "      <td>Gujrat</td>\n",
       "      <td>196024.0</td>\n",
       "      <td>60383628.0</td>\n",
       "      <td>308.0</td>\n",
       "      <td>0.854</td>\n",
       "      <td>western zone</td>\n",
       "      <td>240</td>\n",
       "      <td>2</td>\n",
       "    </tr>\n",
       "    <tr>\n",
       "      <th>9</th>\n",
       "      <td>Andhra Pradesh</td>\n",
       "      <td>162968.0</td>\n",
       "      <td>49386799.0</td>\n",
       "      <td>303.0</td>\n",
       "      <td>0.918</td>\n",
       "      <td>southern zone</td>\n",
       "      <td>150</td>\n",
       "      <td>3</td>\n",
       "    </tr>\n",
       "  </tbody>\n",
       "</table>\n",
       "</div>"
      ],
      "text/plain": [
       "           States      Area   Population  Density  Gender_Ratio  \\\n",
       "0   Uttar Pradesh  240928.0  199812341.0    828.0         0.879   \n",
       "1     Maharashtra  307713.0  112372972.0    365.0         0.878   \n",
       "2           Bihar   94163.0  103804637.0   1102.0         0.916   \n",
       "3     West Bengal   88752.0   91347736.0   1029.0         0.951   \n",
       "4  Madhya Pradesh  308245.0   72597565.0    236.0         0.919   \n",
       "5      Tamil Nadu  130058.0   72138958.0    555.0         0.911   \n",
       "6       Rajasthan  342239.0   68621012.0    201.0         0.861   \n",
       "7       Karnataka  191791.0   61130704.0    319.0         0.939   \n",
       "8          Gujrat  196024.0   60383628.0    308.0         0.854   \n",
       "9  Andhra Pradesh  162968.0   49386799.0    303.0         0.918   \n",
       "\n",
       "            Zone Nominal GDP  Id  \n",
       "0   central zone         220   1  \n",
       "1   western zone         420   1  \n",
       "2   eastern zone          80   1  \n",
       "3   eastern zone         180   2  \n",
       "4   central zone         130   2  \n",
       "5  southern zone         260   1  \n",
       "6  northern zone         130   1  \n",
       "7  southern zone         220   2  \n",
       "8   western zone         240   2  \n",
       "9  southern zone         150   3  "
      ]
     },
     "execution_count": 44,
     "metadata": {},
     "output_type": "execute_result"
    }
   ],
   "source": [
    "df['Nominal GDP']=df['Nominal GDP'].str.replace(\" Billion USD\",\"\")\n",
    "df"
   ]
  },
  {
   "cell_type": "code",
   "execution_count": 45,
   "metadata": {},
   "outputs": [
    {
     "data": {
      "text/plain": [
       "States           object\n",
       "Area            float64\n",
       "Population      float64\n",
       "Density         float64\n",
       "Gender_Ratio    float64\n",
       "Zone             object\n",
       "Nominal GDP      object\n",
       "Id                int32\n",
       "dtype: object"
      ]
     },
     "execution_count": 45,
     "metadata": {},
     "output_type": "execute_result"
    }
   ],
   "source": [
    "df.dtypes"
   ]
  },
  {
   "cell_type": "markdown",
   "metadata": {},
   "source": [
    "##### Nominal GDP -datatype is object need to covert to integer "
   ]
  },
  {
   "cell_type": "code",
   "execution_count": 46,
   "metadata": {},
   "outputs": [
    {
     "data": {
      "text/plain": [
       "States           object\n",
       "Area            float64\n",
       "Population      float64\n",
       "Density         float64\n",
       "Gender_Ratio    float64\n",
       "Zone             object\n",
       "Nominal GDP       int32\n",
       "Id                int32\n",
       "dtype: object"
      ]
     },
     "execution_count": 46,
     "metadata": {},
     "output_type": "execute_result"
    }
   ],
   "source": [
    "df['Nominal GDP']=df['Nominal GDP'].astype('int')\n",
    "df.dtypes"
   ]
  },
  {
   "cell_type": "code",
   "execution_count": 47,
   "metadata": {},
   "outputs": [
    {
     "data": {
      "text/plain": [
       "<pandas.core.groupby.generic.DataFrameGroupBy object at 0x0000022435381488>"
      ]
     },
     "execution_count": 47,
     "metadata": {},
     "output_type": "execute_result"
    }
   ],
   "source": [
    "cleaned_zone_group=df.groupby(['Zone']) #grouping clead data based on zones\n",
    "cleaned_zone_group"
   ]
  },
  {
   "cell_type": "code",
   "execution_count": 48,
   "metadata": {},
   "outputs": [
    {
     "data": {
      "text/plain": [
       "Zone           Nominal GDP\n",
       "central zone   130            1\n",
       "               220            1\n",
       "eastern zone   80             1\n",
       "               180            1\n",
       "northern zone  130            1\n",
       "southern zone  150            1\n",
       "               220            1\n",
       "               260            1\n",
       "western zone   240            1\n",
       "               420            1\n",
       "Name: Nominal GDP, dtype: int64"
      ]
     },
     "execution_count": 48,
     "metadata": {},
     "output_type": "execute_result"
    }
   ],
   "source": [
    "cleaned_zone_group['Nominal GDP'].value_counts() #gdp of each zone"
   ]
  },
  {
   "cell_type": "code",
   "execution_count": 49,
   "metadata": {},
   "outputs": [
    {
     "data": {
      "text/plain": [
       "Zone\n",
       "central zone     175\n",
       "eastern zone     130\n",
       "northern zone    130\n",
       "southern zone    210\n",
       "western zone     330\n",
       "Name: Nominal GDP, dtype: int32"
      ]
     },
     "execution_count": 49,
     "metadata": {},
     "output_type": "execute_result"
    }
   ],
   "source": [
    "cleaned_zone_group['Nominal GDP'].mean()   #Average gdp of each zone"
   ]
  },
  {
   "cell_type": "markdown",
   "metadata": {},
   "source": [
    "### 5.3 median gdp of each zone"
   ]
  },
  {
   "cell_type": "markdown",
   "metadata": {},
   "source": [
    "##### The median is the middle number in a sorted, ascending or descending, list of numbers and can be more descriptive of that data set than the average. The median is sometimes used as opposed to the mean when there are outliers in the sequence that might skew the average of the values."
   ]
  },
  {
   "cell_type": "code",
   "execution_count": 50,
   "metadata": {},
   "outputs": [
    {
     "data": {
      "text/plain": [
       "Zone\n",
       "central zone     175\n",
       "eastern zone     130\n",
       "northern zone    130\n",
       "southern zone    220\n",
       "western zone     330\n",
       "Name: Nominal GDP, dtype: int32"
      ]
     },
     "execution_count": 50,
     "metadata": {},
     "output_type": "execute_result"
    }
   ],
   "source": [
    "cleaned_zone_group['Nominal GDP'].median()  #mean and median values are same for every zone!!!"
   ]
  },
  {
   "cell_type": "markdown",
   "metadata": {},
   "source": [
    "##### mean and median values are same because   If there is an odd amount of numbers, the median value is the number that is in the middle, with the same amount of numbers below and above.   If there is an even amount of numbers in the list, the middle pair must be determined by adding together, and dividing by two to find the median value."
   ]
  },
  {
   "cell_type": "markdown",
   "metadata": {},
   "source": [
    "### 5.4 using mean and mode together........... using agg()"
   ]
  },
  {
   "cell_type": "code",
   "execution_count": 51,
   "metadata": {},
   "outputs": [
    {
     "data": {
      "text/html": [
       "<div>\n",
       "<style scoped>\n",
       "    .dataframe tbody tr th:only-of-type {\n",
       "        vertical-align: middle;\n",
       "    }\n",
       "\n",
       "    .dataframe tbody tr th {\n",
       "        vertical-align: top;\n",
       "    }\n",
       "\n",
       "    .dataframe thead th {\n",
       "        text-align: right;\n",
       "    }\n",
       "</style>\n",
       "<table border=\"1\" class=\"dataframe\">\n",
       "  <thead>\n",
       "    <tr style=\"text-align: right;\">\n",
       "      <th></th>\n",
       "      <th>median</th>\n",
       "      <th>mean</th>\n",
       "    </tr>\n",
       "    <tr>\n",
       "      <th>Zone</th>\n",
       "      <th></th>\n",
       "      <th></th>\n",
       "    </tr>\n",
       "  </thead>\n",
       "  <tbody>\n",
       "    <tr>\n",
       "      <th>central zone</th>\n",
       "      <td>175</td>\n",
       "      <td>175</td>\n",
       "    </tr>\n",
       "    <tr>\n",
       "      <th>eastern zone</th>\n",
       "      <td>130</td>\n",
       "      <td>130</td>\n",
       "    </tr>\n",
       "    <tr>\n",
       "      <th>northern zone</th>\n",
       "      <td>130</td>\n",
       "      <td>130</td>\n",
       "    </tr>\n",
       "    <tr>\n",
       "      <th>southern zone</th>\n",
       "      <td>220</td>\n",
       "      <td>210</td>\n",
       "    </tr>\n",
       "    <tr>\n",
       "      <th>western zone</th>\n",
       "      <td>330</td>\n",
       "      <td>330</td>\n",
       "    </tr>\n",
       "  </tbody>\n",
       "</table>\n",
       "</div>"
      ],
      "text/plain": [
       "               median  mean\n",
       "Zone                       \n",
       "central zone      175   175\n",
       "eastern zone      130   130\n",
       "northern zone     130   130\n",
       "southern zone     220   210\n",
       "western zone      330   330"
      ]
     },
     "execution_count": 51,
     "metadata": {},
     "output_type": "execute_result"
    }
   ],
   "source": [
    "cleaned_zone_group['Nominal GDP'].agg(['median','mean'])"
   ]
  },
  {
   "cell_type": "markdown",
   "metadata": {},
   "source": [
    "# 6. Grouping multiple columns"
   ]
  },
  {
   "cell_type": "code",
   "execution_count": 52,
   "metadata": {
    "scrolled": false
   },
   "outputs": [
    {
     "data": {
      "text/html": [
       "<div>\n",
       "<style scoped>\n",
       "    .dataframe tbody tr th:only-of-type {\n",
       "        vertical-align: middle;\n",
       "    }\n",
       "\n",
       "    .dataframe tbody tr th {\n",
       "        vertical-align: top;\n",
       "    }\n",
       "\n",
       "    .dataframe thead th {\n",
       "        text-align: right;\n",
       "    }\n",
       "</style>\n",
       "<table border=\"1\" class=\"dataframe\">\n",
       "  <thead>\n",
       "    <tr style=\"text-align: right;\">\n",
       "      <th></th>\n",
       "      <th>Team</th>\n",
       "      <th>Pos</th>\n",
       "      <th>Age</th>\n",
       "    </tr>\n",
       "  </thead>\n",
       "  <tbody>\n",
       "    <tr>\n",
       "      <th>0</th>\n",
       "      <td>Red Sox</td>\n",
       "      <td>Pitcher</td>\n",
       "      <td>24</td>\n",
       "    </tr>\n",
       "    <tr>\n",
       "      <th>1</th>\n",
       "      <td>Red Sox</td>\n",
       "      <td>Pitcher</td>\n",
       "      <td>28</td>\n",
       "    </tr>\n",
       "    <tr>\n",
       "      <th>2</th>\n",
       "      <td>Red Sox</td>\n",
       "      <td>Pitcher</td>\n",
       "      <td>40</td>\n",
       "    </tr>\n",
       "    <tr>\n",
       "      <th>3</th>\n",
       "      <td>Red Sox</td>\n",
       "      <td>Not Pitcher</td>\n",
       "      <td>22</td>\n",
       "    </tr>\n",
       "    <tr>\n",
       "      <th>4</th>\n",
       "      <td>Red Sox</td>\n",
       "      <td>Not Pitcher</td>\n",
       "      <td>29</td>\n",
       "    </tr>\n",
       "    <tr>\n",
       "      <th>5</th>\n",
       "      <td>Red Sox</td>\n",
       "      <td>Not Pitcher</td>\n",
       "      <td>33</td>\n",
       "    </tr>\n",
       "    <tr>\n",
       "      <th>6</th>\n",
       "      <td>Yankees</td>\n",
       "      <td>Pitcher</td>\n",
       "      <td>31</td>\n",
       "    </tr>\n",
       "    <tr>\n",
       "      <th>7</th>\n",
       "      <td>Yankees</td>\n",
       "      <td>Pitcher</td>\n",
       "      <td>26</td>\n",
       "    </tr>\n",
       "    <tr>\n",
       "      <th>8</th>\n",
       "      <td>Yankees</td>\n",
       "      <td>Pitcher</td>\n",
       "      <td>21</td>\n",
       "    </tr>\n",
       "    <tr>\n",
       "      <th>9</th>\n",
       "      <td>Yankees</td>\n",
       "      <td>Not Pitcher</td>\n",
       "      <td>36</td>\n",
       "    </tr>\n",
       "    <tr>\n",
       "      <th>10</th>\n",
       "      <td>Yankees</td>\n",
       "      <td>Not Pitcher</td>\n",
       "      <td>25</td>\n",
       "    </tr>\n",
       "    <tr>\n",
       "      <th>11</th>\n",
       "      <td>Yankees</td>\n",
       "      <td>Not Pitcher</td>\n",
       "      <td>31</td>\n",
       "    </tr>\n",
       "  </tbody>\n",
       "</table>\n",
       "</div>"
      ],
      "text/plain": [
       "       Team          Pos  Age\n",
       "0   Red Sox      Pitcher   24\n",
       "1   Red Sox      Pitcher   28\n",
       "2   Red Sox      Pitcher   40\n",
       "3   Red Sox  Not Pitcher   22\n",
       "4   Red Sox  Not Pitcher   29\n",
       "5   Red Sox  Not Pitcher   33\n",
       "6   Yankees      Pitcher   31\n",
       "7   Yankees      Pitcher   26\n",
       "8   Yankees      Pitcher   21\n",
       "9   Yankees  Not Pitcher   36\n",
       "10  Yankees  Not Pitcher   25\n",
       "11  Yankees  Not Pitcher   31"
      ]
     },
     "execution_count": 52,
     "metadata": {},
     "output_type": "execute_result"
    }
   ],
   "source": [
    "data1 = {\"Team\": [\"Red Sox\", \"Red Sox\", \"Red Sox\", \"Red Sox\", \"Red Sox\", \"Red Sox\", \"Yankees\", \"Yankees\", \"Yankees\", \"Yankees\", \"Yankees\", \"Yankees\"],\n",
    "        \"Pos\": [\"Pitcher\", \"Pitcher\", \"Pitcher\", \"Not Pitcher\", \"Not Pitcher\", \"Not Pitcher\", \"Pitcher\", \"Pitcher\", \"Pitcher\", \"Not Pitcher\", \"Not Pitcher\", \"Not Pitcher\"],\n",
    "        \"Age\": [24, 28, 40, 22, 29, 33, 31, 26, 21, 36, 25, 31]}\n",
    "df1 = pd.DataFrame(data1)\n",
    "df1"
   ]
  },
  {
   "cell_type": "code",
   "execution_count": 53,
   "metadata": {},
   "outputs": [
    {
     "data": {
      "text/plain": [
       "<pandas.core.groupby.generic.DataFrameGroupBy object at 0x00000224352AD048>"
      ]
     },
     "execution_count": 53,
     "metadata": {},
     "output_type": "execute_result"
    }
   ],
   "source": [
    "grouped_multiple = df1.groupby(['Team', 'Pos'])\n",
    "grouped_multiple"
   ]
  },
  {
   "cell_type": "code",
   "execution_count": 54,
   "metadata": {},
   "outputs": [
    {
     "data": {
      "text/html": [
       "<div>\n",
       "<style scoped>\n",
       "    .dataframe tbody tr th:only-of-type {\n",
       "        vertical-align: middle;\n",
       "    }\n",
       "\n",
       "    .dataframe tbody tr th {\n",
       "        vertical-align: top;\n",
       "    }\n",
       "\n",
       "    .dataframe thead tr th {\n",
       "        text-align: left;\n",
       "    }\n",
       "\n",
       "    .dataframe thead tr:last-of-type th {\n",
       "        text-align: right;\n",
       "    }\n",
       "</style>\n",
       "<table border=\"1\" class=\"dataframe\">\n",
       "  <thead>\n",
       "    <tr>\n",
       "      <th></th>\n",
       "      <th></th>\n",
       "      <th colspan=\"3\" halign=\"left\">Age</th>\n",
       "    </tr>\n",
       "    <tr>\n",
       "      <th></th>\n",
       "      <th></th>\n",
       "      <th>mean</th>\n",
       "      <th>min</th>\n",
       "      <th>max</th>\n",
       "    </tr>\n",
       "    <tr>\n",
       "      <th>Team</th>\n",
       "      <th>Pos</th>\n",
       "      <th></th>\n",
       "      <th></th>\n",
       "      <th></th>\n",
       "    </tr>\n",
       "  </thead>\n",
       "  <tbody>\n",
       "    <tr>\n",
       "      <th rowspan=\"2\" valign=\"top\">Red Sox</th>\n",
       "      <th>Not Pitcher</th>\n",
       "      <td>28.000000</td>\n",
       "      <td>22</td>\n",
       "      <td>33</td>\n",
       "    </tr>\n",
       "    <tr>\n",
       "      <th>Pitcher</th>\n",
       "      <td>30.666667</td>\n",
       "      <td>24</td>\n",
       "      <td>40</td>\n",
       "    </tr>\n",
       "    <tr>\n",
       "      <th rowspan=\"2\" valign=\"top\">Yankees</th>\n",
       "      <th>Not Pitcher</th>\n",
       "      <td>30.666667</td>\n",
       "      <td>25</td>\n",
       "      <td>36</td>\n",
       "    </tr>\n",
       "    <tr>\n",
       "      <th>Pitcher</th>\n",
       "      <td>26.000000</td>\n",
       "      <td>21</td>\n",
       "      <td>31</td>\n",
       "    </tr>\n",
       "  </tbody>\n",
       "</table>\n",
       "</div>"
      ],
      "text/plain": [
       "                           Age        \n",
       "                          mean min max\n",
       "Team    Pos                           \n",
       "Red Sox Not Pitcher  28.000000  22  33\n",
       "        Pitcher      30.666667  24  40\n",
       "Yankees Not Pitcher  30.666667  25  36\n",
       "        Pitcher      26.000000  21  31"
      ]
     },
     "execution_count": 54,
     "metadata": {},
     "output_type": "execute_result"
    }
   ],
   "source": [
    "multiple_grouped_data=grouped_multiple.agg(['mean', 'min', 'max']) #automatically takes numerical columns to find aggrigate\n",
    "multiple_grouped_data #auto alignes  the dataset"
   ]
  },
  {
   "cell_type": "markdown",
   "metadata": {},
   "source": [
    "##### auto alignes  the dataset"
   ]
  },
  {
   "cell_type": "code",
   "execution_count": 55,
   "metadata": {},
   "outputs": [
    {
     "data": {
      "text/html": [
       "<div>\n",
       "<style scoped>\n",
       "    .dataframe tbody tr th:only-of-type {\n",
       "        vertical-align: middle;\n",
       "    }\n",
       "\n",
       "    .dataframe tbody tr th {\n",
       "        vertical-align: top;\n",
       "    }\n",
       "\n",
       "    .dataframe thead th {\n",
       "        text-align: right;\n",
       "    }\n",
       "</style>\n",
       "<table border=\"1\" class=\"dataframe\">\n",
       "  <thead>\n",
       "    <tr style=\"text-align: right;\">\n",
       "      <th></th>\n",
       "      <th></th>\n",
       "      <th>age_mean</th>\n",
       "      <th>age_min</th>\n",
       "      <th>age_max</th>\n",
       "    </tr>\n",
       "    <tr>\n",
       "      <th>Team</th>\n",
       "      <th>Pos</th>\n",
       "      <th></th>\n",
       "      <th></th>\n",
       "      <th></th>\n",
       "    </tr>\n",
       "  </thead>\n",
       "  <tbody>\n",
       "    <tr>\n",
       "      <th rowspan=\"2\" valign=\"top\">Red Sox</th>\n",
       "      <th>Not Pitcher</th>\n",
       "      <td>28.000000</td>\n",
       "      <td>22</td>\n",
       "      <td>33</td>\n",
       "    </tr>\n",
       "    <tr>\n",
       "      <th>Pitcher</th>\n",
       "      <td>30.666667</td>\n",
       "      <td>24</td>\n",
       "      <td>40</td>\n",
       "    </tr>\n",
       "    <tr>\n",
       "      <th rowspan=\"2\" valign=\"top\">Yankees</th>\n",
       "      <th>Not Pitcher</th>\n",
       "      <td>30.666667</td>\n",
       "      <td>25</td>\n",
       "      <td>36</td>\n",
       "    </tr>\n",
       "    <tr>\n",
       "      <th>Pitcher</th>\n",
       "      <td>26.000000</td>\n",
       "      <td>21</td>\n",
       "      <td>31</td>\n",
       "    </tr>\n",
       "  </tbody>\n",
       "</table>\n",
       "</div>"
      ],
      "text/plain": [
       "                      age_mean  age_min  age_max\n",
       "Team    Pos                                     \n",
       "Red Sox Not Pitcher  28.000000       22       33\n",
       "        Pitcher      30.666667       24       40\n",
       "Yankees Not Pitcher  30.666667       25       36\n",
       "        Pitcher      26.000000       21       31"
      ]
     },
     "execution_count": 55,
     "metadata": {},
     "output_type": "execute_result"
    }
   ],
   "source": [
    "multiple_grouped_data.columns  = ['age_mean', 'age_min', 'age_max'] #renaming columns\n",
    "multiple_grouped_data"
   ]
  },
  {
   "cell_type": "code",
   "execution_count": 56,
   "metadata": {},
   "outputs": [
    {
     "data": {
      "text/html": [
       "<div>\n",
       "<style scoped>\n",
       "    .dataframe tbody tr th:only-of-type {\n",
       "        vertical-align: middle;\n",
       "    }\n",
       "\n",
       "    .dataframe tbody tr th {\n",
       "        vertical-align: top;\n",
       "    }\n",
       "\n",
       "    .dataframe thead th {\n",
       "        text-align: right;\n",
       "    }\n",
       "</style>\n",
       "<table border=\"1\" class=\"dataframe\">\n",
       "  <thead>\n",
       "    <tr style=\"text-align: right;\">\n",
       "      <th></th>\n",
       "      <th>Team</th>\n",
       "      <th>Pos</th>\n",
       "      <th>age_mean</th>\n",
       "      <th>age_min</th>\n",
       "      <th>age_max</th>\n",
       "    </tr>\n",
       "  </thead>\n",
       "  <tbody>\n",
       "    <tr>\n",
       "      <th>0</th>\n",
       "      <td>Red Sox</td>\n",
       "      <td>Not Pitcher</td>\n",
       "      <td>28.000000</td>\n",
       "      <td>22</td>\n",
       "      <td>33</td>\n",
       "    </tr>\n",
       "    <tr>\n",
       "      <th>1</th>\n",
       "      <td>Red Sox</td>\n",
       "      <td>Pitcher</td>\n",
       "      <td>30.666667</td>\n",
       "      <td>24</td>\n",
       "      <td>40</td>\n",
       "    </tr>\n",
       "    <tr>\n",
       "      <th>2</th>\n",
       "      <td>Yankees</td>\n",
       "      <td>Not Pitcher</td>\n",
       "      <td>30.666667</td>\n",
       "      <td>25</td>\n",
       "      <td>36</td>\n",
       "    </tr>\n",
       "    <tr>\n",
       "      <th>3</th>\n",
       "      <td>Yankees</td>\n",
       "      <td>Pitcher</td>\n",
       "      <td>26.000000</td>\n",
       "      <td>21</td>\n",
       "      <td>31</td>\n",
       "    </tr>\n",
       "  </tbody>\n",
       "</table>\n",
       "</div>"
      ],
      "text/plain": [
       "      Team          Pos   age_mean  age_min  age_max\n",
       "0  Red Sox  Not Pitcher  28.000000       22       33\n",
       "1  Red Sox      Pitcher  30.666667       24       40\n",
       "2  Yankees  Not Pitcher  30.666667       25       36\n",
       "3  Yankees      Pitcher  26.000000       21       31"
      ]
     },
     "execution_count": 56,
     "metadata": {},
     "output_type": "execute_result"
    }
   ],
   "source": [
    "multiple_grouped_data = multiple_grouped_data.reset_index() \n",
    "multiple_grouped_data"
   ]
  },
  {
   "cell_type": "code",
   "execution_count": 57,
   "metadata": {},
   "outputs": [
    {
     "name": "stdout",
     "output_type": "stream",
     "text": [
      "Fri Aug 28 23:17:28 2020       \n",
      "+-----------------------------------------------------------------------------+\n",
      "| NVIDIA-SMI 452.06       Driver Version: 452.06       CUDA Version: 11.0     |\n",
      "|-------------------------------+----------------------+----------------------+\n",
      "| GPU  Name            TCC/WDDM | Bus-Id        Disp.A | Volatile Uncorr. ECC |\n",
      "| Fan  Temp  Perf  Pwr:Usage/Cap|         Memory-Usage | GPU-Util  Compute M. |\n",
      "|===============================+======================+======================|\n",
      "|   0  GeForce GTX 1050   WDDM  | 00000000:01:00.0 Off |                  N/A |\n",
      "| N/A   40C    P8    N/A /  N/A |     77MiB /  4096MiB |      0%      Default |\n",
      "+-------------------------------+----------------------+----------------------+\n",
      "                                                                               \n",
      "+-----------------------------------------------------------------------------+\n",
      "| Processes:                                                                  |\n",
      "|  GPU   GI   CI        PID   Type   Process name                  GPU Memory |\n",
      "|        ID   ID                                                   Usage      |\n",
      "|=============================================================================|\n",
      "|  No running processes found                                                 |\n",
      "+-----------------------------------------------------------------------------+\n"
     ]
    }
   ],
   "source": [
    "!nvidia-smi"
   ]
  },
  {
   "cell_type": "code",
   "execution_count": null,
   "metadata": {},
   "outputs": [],
   "source": []
  },
  {
   "cell_type": "code",
   "execution_count": null,
   "metadata": {},
   "outputs": [],
   "source": []
  },
  {
   "cell_type": "code",
   "execution_count": null,
   "metadata": {},
   "outputs": [],
   "source": []
  },
  {
   "cell_type": "code",
   "execution_count": null,
   "metadata": {},
   "outputs": [],
   "source": []
  },
  {
   "cell_type": "code",
   "execution_count": null,
   "metadata": {},
   "outputs": [],
   "source": []
  },
  {
   "cell_type": "code",
   "execution_count": null,
   "metadata": {},
   "outputs": [],
   "source": []
  },
  {
   "cell_type": "code",
   "execution_count": null,
   "metadata": {},
   "outputs": [],
   "source": []
  },
  {
   "cell_type": "code",
   "execution_count": null,
   "metadata": {},
   "outputs": [],
   "source": []
  },
  {
   "cell_type": "code",
   "execution_count": null,
   "metadata": {},
   "outputs": [],
   "source": []
  },
  {
   "cell_type": "code",
   "execution_count": null,
   "metadata": {},
   "outputs": [],
   "source": []
  },
  {
   "cell_type": "code",
   "execution_count": null,
   "metadata": {},
   "outputs": [],
   "source": []
  },
  {
   "cell_type": "code",
   "execution_count": null,
   "metadata": {},
   "outputs": [],
   "source": []
  },
  {
   "cell_type": "code",
   "execution_count": null,
   "metadata": {},
   "outputs": [],
   "source": []
  },
  {
   "cell_type": "code",
   "execution_count": null,
   "metadata": {},
   "outputs": [],
   "source": []
  },
  {
   "cell_type": "code",
   "execution_count": null,
   "metadata": {},
   "outputs": [],
   "source": []
  },
  {
   "cell_type": "code",
   "execution_count": null,
   "metadata": {},
   "outputs": [],
   "source": []
  },
  {
   "cell_type": "code",
   "execution_count": null,
   "metadata": {},
   "outputs": [],
   "source": []
  },
  {
   "cell_type": "code",
   "execution_count": null,
   "metadata": {},
   "outputs": [],
   "source": []
  },
  {
   "cell_type": "code",
   "execution_count": null,
   "metadata": {},
   "outputs": [],
   "source": []
  },
  {
   "cell_type": "code",
   "execution_count": null,
   "metadata": {},
   "outputs": [],
   "source": []
  },
  {
   "cell_type": "code",
   "execution_count": null,
   "metadata": {},
   "outputs": [],
   "source": []
  },
  {
   "cell_type": "code",
   "execution_count": null,
   "metadata": {},
   "outputs": [],
   "source": []
  },
  {
   "cell_type": "code",
   "execution_count": null,
   "metadata": {},
   "outputs": [],
   "source": []
  }
 ],
 "metadata": {
  "kernelspec": {
   "display_name": "Python 3",
   "language": "python",
   "name": "python3"
  },
  "language_info": {
   "codemirror_mode": {
    "name": "ipython",
    "version": 3
   },
   "file_extension": ".py",
   "mimetype": "text/x-python",
   "name": "python",
   "nbconvert_exporter": "python",
   "pygments_lexer": "ipython3",
   "version": "3.7.4"
  }
 },
 "nbformat": 4,
 "nbformat_minor": 4
}
