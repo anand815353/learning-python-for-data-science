{
 "cells": [
  {
   "cell_type": "markdown",
   "metadata": {},
   "source": [
    "# learning python libraies PART 4\n",
    "aNAND tIRKEY"
   ]
  },
  {
   "cell_type": "code",
   "execution_count": 1,
   "metadata": {},
   "outputs": [
    {
     "name": "stdout",
     "output_type": "stream",
     "text": [
      "3.7.4\n",
      "1.18.1\n"
     ]
    }
   ],
   "source": [
    "import numpy as np\n",
    "import platform\n",
    "print(platform.python_version())\n",
    "print(np.__version__)"
   ]
  },
  {
   "cell_type": "markdown",
   "metadata": {},
   "source": [
    "# 1. matrix transpose"
   ]
  },
  {
   "cell_type": "code",
   "execution_count": 2,
   "metadata": {},
   "outputs": [
    {
     "data": {
      "text/plain": [
       "array([[ 0,  1,  2,  3],\n",
       "       [ 4,  5,  6,  7],\n",
       "       [ 8,  9, 10, 11]])"
      ]
     },
     "execution_count": 2,
     "metadata": {},
     "output_type": "execute_result"
    }
   ],
   "source": [
    "matrix=np.arange(0,12).reshape(3,4)\n",
    "matrix"
   ]
  },
  {
   "cell_type": "code",
   "execution_count": 3,
   "metadata": {},
   "outputs": [
    {
     "name": "stdout",
     "output_type": "stream",
     "text": [
      "matrix Transpose: \n",
      " [[ 0  4  8]\n",
      " [ 1  5  9]\n",
      " [ 2  6 10]\n",
      " [ 3  7 11]]\n"
     ]
    }
   ],
   "source": [
    "print('matrix Transpose: \\n', matrix.T)"
   ]
  },
  {
   "cell_type": "markdown",
   "metadata": {},
   "source": [
    "# 2. max element in an array"
   ]
  },
  {
   "cell_type": "code",
   "execution_count": 4,
   "metadata": {},
   "outputs": [
    {
     "data": {
      "text/plain": [
       "array([[ 0,  1,  2,  3],\n",
       "       [ 4,  5,  6,  7],\n",
       "       [ 8,  9, 10, 11]])"
      ]
     },
     "execution_count": 4,
     "metadata": {},
     "output_type": "execute_result"
    }
   ],
   "source": [
    "matrix  #after transposing we need to save it!!"
   ]
  },
  {
   "cell_type": "code",
   "execution_count": 5,
   "metadata": {},
   "outputs": [
    {
     "name": "stdout",
     "output_type": "stream",
     "text": [
      "max element in array: \n",
      " 11\n"
     ]
    }
   ],
   "source": [
    "print(\"max element in array: \\n\",matrix.max())"
   ]
  },
  {
   "cell_type": "code",
   "execution_count": 6,
   "metadata": {},
   "outputs": [
    {
     "name": "stdout",
     "output_type": "stream",
     "text": [
      "row wise max element: \n",
      " [ 3  7 11]\n"
     ]
    }
   ],
   "source": [
    "print(\"row wise max element: \\n\",matrix.max(axis=1)) #matrix is not transposed"
   ]
  },
  {
   "cell_type": "code",
   "execution_count": 7,
   "metadata": {},
   "outputs": [
    {
     "data": {
      "text/plain": [
       "array([ 8,  9, 10, 11])"
      ]
     },
     "execution_count": 7,
     "metadata": {},
     "output_type": "execute_result"
    }
   ],
   "source": [
    "matrix.T.max(axis=1)   #we can mix transpose and get max elemnts in each row"
   ]
  },
  {
   "cell_type": "code",
   "execution_count": 8,
   "metadata": {},
   "outputs": [
    {
     "name": "stdout",
     "output_type": "stream",
     "text": [
      "column wise max element: \n",
      " [ 8  9 10 11]\n"
     ]
    }
   ],
   "source": [
    "print(\"column wise max element: \\n\",matrix.max(axis=0))"
   ]
  },
  {
   "cell_type": "code",
   "execution_count": 9,
   "metadata": {
    "scrolled": true
   },
   "outputs": [
    {
     "data": {
      "text/plain": [
       "array([ 8,  9, 10, 11])"
      ]
     },
     "execution_count": 9,
     "metadata": {},
     "output_type": "execute_result"
    }
   ],
   "source": [
    "matrix.max(axis=0).T  #its not like we can get vector of max elements from rows/columns and then transpose the resultent vector"
   ]
  },
  {
   "cell_type": "markdown",
   "metadata": {},
   "source": [
    "# 3. min elemenet "
   ]
  },
  {
   "cell_type": "code",
   "execution_count": 10,
   "metadata": {},
   "outputs": [
    {
     "name": "stdout",
     "output_type": "stream",
     "text": [
      "min element in array: \n",
      " 0\n"
     ]
    }
   ],
   "source": [
    "print(\"min element in array: \\n\",matrix.min())"
   ]
  },
  {
   "cell_type": "code",
   "execution_count": 11,
   "metadata": {},
   "outputs": [
    {
     "name": "stdout",
     "output_type": "stream",
     "text": [
      "row wise min element: \n",
      " [0 4 8]\n"
     ]
    }
   ],
   "source": [
    "print(\"row wise min element: \\n\",matrix.min(axis=1))"
   ]
  },
  {
   "cell_type": "code",
   "execution_count": 12,
   "metadata": {},
   "outputs": [
    {
     "data": {
      "text/plain": [
       "array([0, 1, 2, 3])"
      ]
     },
     "execution_count": 12,
     "metadata": {},
     "output_type": "execute_result"
    }
   ],
   "source": [
    "matrix.T.min(axis=1)"
   ]
  },
  {
   "cell_type": "code",
   "execution_count": 13,
   "metadata": {},
   "outputs": [
    {
     "name": "stdout",
     "output_type": "stream",
     "text": [
      "column wise min element: \n",
      " [0 1 2 3]\n"
     ]
    }
   ],
   "source": [
    "print(\"column wise min element: \\n\",matrix.min(axis=0))"
   ]
  },
  {
   "cell_type": "code",
   "execution_count": 14,
   "metadata": {},
   "outputs": [
    {
     "data": {
      "text/plain": [
       "array([0, 4, 8])"
      ]
     },
     "execution_count": 14,
     "metadata": {},
     "output_type": "execute_result"
    }
   ],
   "source": [
    "matrix.T.min(axis=0)"
   ]
  },
  {
   "cell_type": "markdown",
   "metadata": {},
   "source": [
    "# 4. sum of all elements in array"
   ]
  },
  {
   "cell_type": "code",
   "execution_count": 15,
   "metadata": {
    "scrolled": true
   },
   "outputs": [
    {
     "name": "stdout",
     "output_type": "stream",
     "text": [
      "sum of all elements in the array: \n",
      " 66\n"
     ]
    }
   ],
   "source": [
    "print(\"sum of all elements in the array: \\n\",matrix.sum())"
   ]
  },
  {
   "cell_type": "markdown",
   "metadata": {},
   "source": [
    "# 5. cumulative sum"
   ]
  },
  {
   "cell_type": "code",
   "execution_count": 16,
   "metadata": {},
   "outputs": [
    {
     "data": {
      "text/plain": [
       "array([[ 0,  1,  2,  3],\n",
       "       [ 4,  5,  6,  7],\n",
       "       [ 8,  9, 10, 11]])"
      ]
     },
     "execution_count": 16,
     "metadata": {},
     "output_type": "execute_result"
    }
   ],
   "source": [
    "matrix"
   ]
  },
  {
   "cell_type": "code",
   "execution_count": 17,
   "metadata": {},
   "outputs": [
    {
     "name": "stdout",
     "output_type": "stream",
     "text": [
      "cumulative sum of all elements in the array: \n",
      " [ 0  1  3  6 10 15 21 28 36 45 55 66]\n"
     ]
    }
   ],
   "source": [
    "print(\"cumulative sum of all elements in the array: \\n\",matrix.cumsum())   # 0, 0+1=1 ,1+2=3 ,3+3=6 , 6+4=10..."
   ]
  },
  {
   "cell_type": "code",
   "execution_count": 18,
   "metadata": {},
   "outputs": [
    {
     "name": "stdout",
     "output_type": "stream",
     "text": [
      "cumulative sum row wise: \n",
      " [[ 0  1  3  6]\n",
      " [ 4  9 15 22]\n",
      " [ 8 17 27 38]]\n"
     ]
    }
   ],
   "source": [
    "print(\"cumulative sum row wise: \\n\",matrix.cumsum(axis=1))"
   ]
  },
  {
   "cell_type": "code",
   "execution_count": 19,
   "metadata": {},
   "outputs": [
    {
     "name": "stdout",
     "output_type": "stream",
     "text": [
      "cumulative sum column wise: \n",
      " [[ 0  1  2  3]\n",
      " [ 4  6  8 10]\n",
      " [12 15 18 21]]\n"
     ]
    }
   ],
   "source": [
    "print(\"cumulative sum column wise: \\n\",matrix.cumsum(axis=0))"
   ]
  },
  {
   "cell_type": "markdown",
   "metadata": {},
   "source": [
    "# 6. sum and diffrence of more than two arrays"
   ]
  },
  {
   "cell_type": "code",
   "execution_count": 20,
   "metadata": {},
   "outputs": [
    {
     "data": {
      "text/plain": [
       "array([[12, 13, 14, 15],\n",
       "       [16, 17, 18, 19],\n",
       "       [20, 21, 22, 23]])"
      ]
     },
     "execution_count": 20,
     "metadata": {},
     "output_type": "execute_result"
    }
   ],
   "source": [
    "matrix2=np.arange(12,24).reshape(3,4)\n",
    "matrix2"
   ]
  },
  {
   "cell_type": "code",
   "execution_count": 21,
   "metadata": {},
   "outputs": [
    {
     "data": {
      "text/plain": [
       "array([[24, 25, 26, 27],\n",
       "       [28, 29, 30, 31],\n",
       "       [32, 33, 34, 35]])"
      ]
     },
     "execution_count": 21,
     "metadata": {},
     "output_type": "execute_result"
    }
   ],
   "source": [
    "matrix3=np.arange(24,36).reshape(3,4)\n",
    "matrix3"
   ]
  },
  {
   "cell_type": "code",
   "execution_count": 22,
   "metadata": {},
   "outputs": [
    {
     "name": "stdout",
     "output_type": "stream",
     "text": [
      "Sum of arrays \n",
      " [[36 39 42 45]\n",
      " [48 51 54 57]\n",
      " [60 63 66 69]]\n"
     ]
    }
   ],
   "source": [
    "print(\"Sum of arrays \\n\", matrix+matrix2+matrix3)"
   ]
  },
  {
   "cell_type": "code",
   "execution_count": 23,
   "metadata": {},
   "outputs": [
    {
     "name": "stdout",
     "output_type": "stream",
     "text": [
      "Difference of arrays \n",
      " [[12 12 12 12]\n",
      " [12 12 12 12]\n",
      " [12 12 12 12]]\n"
     ]
    }
   ],
   "source": [
    "print(\"Difference of arrays \\n\", (matrix3-matrix2))"
   ]
  },
  {
   "cell_type": "code",
   "execution_count": 24,
   "metadata": {},
   "outputs": [
    {
     "data": {
      "text/plain": [
       "array([[12, 11, 10,  9],\n",
       "       [ 8,  7,  6,  5],\n",
       "       [ 4,  3,  2,  1]])"
      ]
     },
     "execution_count": 24,
     "metadata": {},
     "output_type": "execute_result"
    }
   ],
   "source": [
    "matrix3-matrix2-matrix"
   ]
  },
  {
   "cell_type": "code",
   "execution_count": 25,
   "metadata": {},
   "outputs": [
    {
     "data": {
      "text/plain": [
       "array([[24, 24, 24, 24],\n",
       "       [24, 24, 24, 24],\n",
       "       [24, 24, 24, 24]])"
      ]
     },
     "execution_count": 25,
     "metadata": {},
     "output_type": "execute_result"
    }
   ],
   "source": [
    "matrix3-matrix"
   ]
  },
  {
   "cell_type": "markdown",
   "metadata": {},
   "source": [
    "# 7. trignometric angles(angels must be in radians)"
   ]
  },
  {
   "cell_type": "markdown",
   "metadata": {},
   "source": [
    "## 7.1 sin()"
   ]
  },
  {
   "cell_type": "markdown",
   "metadata": {},
   "source": [
    "### method 1( array with degree)"
   ]
  },
  {
   "cell_type": "code",
   "execution_count": 26,
   "metadata": {
    "scrolled": true
   },
   "outputs": [
    {
     "data": {
      "text/plain": [
       "array([ 0, 30, 45, 60, 90])"
      ]
     },
     "execution_count": 26,
     "metadata": {},
     "output_type": "execute_result"
    }
   ],
   "source": [
    "deg_angles=np.array([0, 30, 45, 60, 90])\n",
    "deg_angles"
   ]
  },
  {
   "cell_type": "code",
   "execution_count": 27,
   "metadata": {
    "scrolled": false
   },
   "outputs": [
    {
     "name": "stdout",
     "output_type": "stream",
     "text": [
      "[0.         0.5        0.70710678 0.8660254  1.        ]\n"
     ]
    }
   ],
   "source": [
    "print(np.sin(np.array(deg_angles)* np.pi/180) )"
   ]
  },
  {
   "cell_type": "code",
   "execution_count": 28,
   "metadata": {},
   "outputs": [
    {
     "data": {
      "text/plain": [
       "array([0.        , 0.52359878, 0.78539816, 1.04719755, 1.57079633])"
      ]
     },
     "execution_count": 28,
     "metadata": {},
     "output_type": "execute_result"
    }
   ],
   "source": [
    "np.array((0, 30, 45, 60, 90))* np.pi/180"
   ]
  },
  {
   "cell_type": "markdown",
   "metadata": {},
   "source": [
    "### method 2(array with degree is converted to array with radians)"
   ]
  },
  {
   "cell_type": "code",
   "execution_count": 29,
   "metadata": {},
   "outputs": [
    {
     "data": {
      "text/plain": [
       "array([0.        , 0.52359878, 0.78539816, 1.04719755, 1.57079633])"
      ]
     },
     "execution_count": 29,
     "metadata": {},
     "output_type": "execute_result"
    }
   ],
   "source": [
    "rad_angles=deg_angles* np.pi/180\n",
    "rad_angles"
   ]
  },
  {
   "cell_type": "code",
   "execution_count": 30,
   "metadata": {},
   "outputs": [
    {
     "name": "stdout",
     "output_type": "stream",
     "text": [
      "[0.         0.5        0.70710678 0.8660254  1.        ]\n"
     ]
    }
   ],
   "source": [
    "print(np.sin(rad_angles))"
   ]
  },
  {
   "cell_type": "markdown",
   "metadata": {},
   "source": [
    "### method 3(manualy putting degree array and converting in one line)"
   ]
  },
  {
   "cell_type": "code",
   "execution_count": 31,
   "metadata": {},
   "outputs": [
    {
     "name": "stdout",
     "output_type": "stream",
     "text": [
      "[0.         0.5        0.70710678 0.8660254  1.        ]\n"
     ]
    }
   ],
   "source": [
    "print(np.sin(np.array((0, 30, 45, 60, 90))* np.pi/180) )"
   ]
  },
  {
   "cell_type": "code",
   "execution_count": 32,
   "metadata": {
    "scrolled": true
   },
   "outputs": [
    {
     "name": "stdout",
     "output_type": "stream",
     "text": [
      "[0.00000000e+00 5.00000000e-01 7.07106781e-01 8.66025404e-01\n",
      " 1.00000000e+00 8.66025404e-01 5.00000000e-01 1.22464680e-16]\n"
     ]
    }
   ],
   "source": [
    "print(np.sin(np.array((0, 30, 45, 60, 90,120,150,180))* np.pi/180) )"
   ]
  },
  {
   "cell_type": "markdown",
   "metadata": {},
   "source": [
    "# 8. Intro to matplotlib"
   ]
  },
  {
   "cell_type": "code",
   "execution_count": 33,
   "metadata": {},
   "outputs": [],
   "source": [
    "import matplotlib.pylab as plt   #importing library as \"plt\"<--"
   ]
  },
  {
   "cell_type": "code",
   "execution_count": 34,
   "metadata": {
    "scrolled": true
   },
   "outputs": [
    {
     "data": {
      "image/png": "[encoded data removed]",
      "text/plain": [
       "<Figure size 432x288 with 1 Axes>"
      ]
     },
     "metadata": {
      "needs_background": "light"
     },
     "output_type": "display_data"
    }
   ],
   "source": [
    "plt.plot(rad_angles, np.sin(rad_angles))   # plot for RADIANS vs sin(RADIANS)\n",
    "plt.xlabel('Angle [rad]')                  #label for x-axis\n",
    "plt.ylabel('sin(x)')                       #lable for y-axis\n",
    "plt.axis('tight')                          #\"tight\" Sets limits just large enough to show all data.\n",
    "plt.show()                                 #it shows the plot"
   ]
  },
  {
   "cell_type": "markdown",
   "metadata": {},
   "source": [
    "            hmm!! not like sin wave...."
   ]
  },
  {
   "cell_type": "code",
   "execution_count": 35,
   "metadata": {},
   "outputs": [
    {
     "data": {
      "text/plain": [
       "array([0.        , 0.52359878, 0.78539816, 1.04719755, 1.57079633,\n",
       "       2.0943951 , 2.61799388, 3.14159265])"
      ]
     },
     "execution_count": 35,
     "metadata": {},
     "output_type": "execute_result"
    }
   ],
   "source": [
    "x=np.array([0, 30, 45, 60, 90,120,150,180])* np.pi/180   #taking more angles\n",
    "x"
   ]
  },
  {
   "cell_type": "code",
   "execution_count": 36,
   "metadata": {
    "scrolled": true
   },
   "outputs": [
    {
     "data": {
      "image/png": "[encoded data removed]",
      "text/plain": [
       "<Figure size 432x288 with 1 Axes>"
      ]
     },
     "metadata": {
      "needs_background": "light"
     },
     "output_type": "display_data"
    }
   ],
   "source": [
    "plt.plot(x, np.sin(x))            # plot for X vs sin(x)\n",
    "plt.xlabel('Angle [rad]')         #label for x-axis\n",
    "plt.ylabel('sin(x)')              #lable for y-axis\n",
    "plt.axis('tight')                 #\"tight\" Sets limits just large enough to show all data.\n",
    "plt.show()                        #it shows the plot"
   ]
  },
  {
   "cell_type": "markdown",
   "metadata": {},
   "source": [
    "                   at least we got the curve!!!"
   ]
  },
  {
   "cell_type": "code",
   "execution_count": 37,
   "metadata": {},
   "outputs": [
    {
     "data": {
      "text/plain": [
       "array([-3.14159265e+00, -3.11017673e+00, -3.07876080e+00, -3.04734487e+00,\n",
       "       -3.01592895e+00, -2.98451302e+00, -2.95309709e+00, -2.92168117e+00,\n",
       "       -2.89026524e+00, -2.85884931e+00, -2.82743339e+00, -2.79601746e+00,\n",
       "       -2.76460154e+00, -2.73318561e+00, -2.70176968e+00, -2.67035376e+00,\n",
       "       -2.63893783e+00, -2.60752190e+00, -2.57610598e+00, -2.54469005e+00,\n",
       "       -2.51327412e+00, -2.48185820e+00, -2.45044227e+00, -2.41902634e+00,\n",
       "       -2.38761042e+00, -2.35619449e+00, -2.32477856e+00, -2.29336264e+00,\n",
       "       -2.26194671e+00, -2.23053078e+00, -2.19911486e+00, -2.16769893e+00,\n",
       "       -2.13628300e+00, -2.10486708e+00, -2.07345115e+00, -2.04203522e+00,\n",
       "       -2.01061930e+00, -1.97920337e+00, -1.94778745e+00, -1.91637152e+00,\n",
       "       -1.88495559e+00, -1.85353967e+00, -1.82212374e+00, -1.79070781e+00,\n",
       "       -1.75929189e+00, -1.72787596e+00, -1.69646003e+00, -1.66504411e+00,\n",
       "       -1.63362818e+00, -1.60221225e+00, -1.57079633e+00, -1.53938040e+00,\n",
       "       -1.50796447e+00, -1.47654855e+00, -1.44513262e+00, -1.41371669e+00,\n",
       "       -1.38230077e+00, -1.35088484e+00, -1.31946891e+00, -1.28805299e+00,\n",
       "       -1.25663706e+00, -1.22522113e+00, -1.19380521e+00, -1.16238928e+00,\n",
       "       -1.13097336e+00, -1.09955743e+00, -1.06814150e+00, -1.03672558e+00,\n",
       "       -1.00530965e+00, -9.73893723e-01, -9.42477796e-01, -9.11061870e-01,\n",
       "       -8.79645943e-01, -8.48230016e-01, -8.16814090e-01, -7.85398163e-01,\n",
       "       -7.53982237e-01, -7.22566310e-01, -6.91150384e-01, -6.59734457e-01,\n",
       "       -6.28318531e-01, -5.96902604e-01, -5.65486678e-01, -5.34070751e-01,\n",
       "       -5.02654825e-01, -4.71238898e-01, -4.39822972e-01, -4.08407045e-01,\n",
       "       -3.76991118e-01, -3.45575192e-01, -3.14159265e-01, -2.82743339e-01,\n",
       "       -2.51327412e-01, -2.19911486e-01, -1.88495559e-01, -1.57079633e-01,\n",
       "       -1.25663706e-01, -9.42477796e-02, -6.28318531e-02, -3.14159265e-02,\n",
       "        4.44089210e-16,  3.14159265e-02,  6.28318531e-02,  9.42477796e-02,\n",
       "        1.25663706e-01,  1.57079633e-01,  1.88495559e-01,  2.19911486e-01,\n",
       "        2.51327412e-01,  2.82743339e-01,  3.14159265e-01,  3.45575192e-01,\n",
       "        3.76991118e-01,  4.08407045e-01,  4.39822972e-01,  4.71238898e-01,\n",
       "        5.02654825e-01,  5.34070751e-01,  5.65486678e-01,  5.96902604e-01,\n",
       "        6.28318531e-01,  6.59734457e-01,  6.91150384e-01,  7.22566310e-01,\n",
       "        7.53982237e-01,  7.85398163e-01,  8.16814090e-01,  8.48230016e-01,\n",
       "        8.79645943e-01,  9.11061870e-01,  9.42477796e-01,  9.73893723e-01,\n",
       "        1.00530965e+00,  1.03672558e+00,  1.06814150e+00,  1.09955743e+00,\n",
       "        1.13097336e+00,  1.16238928e+00,  1.19380521e+00,  1.22522113e+00,\n",
       "        1.25663706e+00,  1.28805299e+00,  1.31946891e+00,  1.35088484e+00,\n",
       "        1.38230077e+00,  1.41371669e+00,  1.44513262e+00,  1.47654855e+00,\n",
       "        1.50796447e+00,  1.53938040e+00,  1.57079633e+00,  1.60221225e+00,\n",
       "        1.63362818e+00,  1.66504411e+00,  1.69646003e+00,  1.72787596e+00,\n",
       "        1.75929189e+00,  1.79070781e+00,  1.82212374e+00,  1.85353967e+00,\n",
       "        1.88495559e+00,  1.91637152e+00,  1.94778745e+00,  1.97920337e+00,\n",
       "        2.01061930e+00,  2.04203522e+00,  2.07345115e+00,  2.10486708e+00,\n",
       "        2.13628300e+00,  2.16769893e+00,  2.19911486e+00,  2.23053078e+00,\n",
       "        2.26194671e+00,  2.29336264e+00,  2.32477856e+00,  2.35619449e+00,\n",
       "        2.38761042e+00,  2.41902634e+00,  2.45044227e+00,  2.48185820e+00,\n",
       "        2.51327412e+00,  2.54469005e+00,  2.57610598e+00,  2.60752190e+00,\n",
       "        2.63893783e+00,  2.67035376e+00,  2.70176968e+00,  2.73318561e+00,\n",
       "        2.76460154e+00,  2.79601746e+00,  2.82743339e+00,  2.85884931e+00,\n",
       "        2.89026524e+00,  2.92168117e+00,  2.95309709e+00,  2.98451302e+00,\n",
       "        3.01592895e+00,  3.04734487e+00,  3.07876080e+00,  3.11017673e+00,\n",
       "        3.14159265e+00])"
      ]
     },
     "execution_count": 37,
     "metadata": {},
     "output_type": "execute_result"
    }
   ],
   "source": [
    "extended_x = np.linspace(-np.pi, np.pi, 201)   #201 values between -v pi and +v pi\n",
    "extended_x"
   ]
  },
  {
   "cell_type": "code",
   "execution_count": 38,
   "metadata": {},
   "outputs": [
    {
     "data": {
      "image/png": "[encoded data removed]",
      "text/plain": [
       "<Figure size 432x288 with 1 Axes>"
      ]
     },
     "metadata": {
      "needs_background": "light"
     },
     "output_type": "display_data"
    }
   ],
   "source": [
    "plt.plot(extended_x, np.sin(extended_x))\n",
    "plt.xlabel('Angle [rad]')\n",
    "plt.ylabel('sin(x)')\n",
    "plt.axis('tight')\n",
    "plt.show()"
   ]
  },
  {
   "cell_type": "markdown",
   "metadata": {},
   "source": [
    "                        perfection!"
   ]
  },
  {
   "cell_type": "markdown",
   "metadata": {},
   "source": [
    "## 7.2 cos()"
   ]
  },
  {
   "cell_type": "code",
   "execution_count": 39,
   "metadata": {},
   "outputs": [
    {
     "data": {
      "text/plain": [
       "array([0.        , 0.52359878, 0.78539816, 1.04719755, 1.57079633])"
      ]
     },
     "execution_count": 39,
     "metadata": {},
     "output_type": "execute_result"
    }
   ],
   "source": [
    "rad_angles"
   ]
  },
  {
   "cell_type": "code",
   "execution_count": 40,
   "metadata": {},
   "outputs": [
    {
     "name": "stdout",
     "output_type": "stream",
     "text": [
      "[1.00000000e+00 8.66025404e-01 7.07106781e-01 5.00000000e-01\n",
      " 6.12323400e-17]\n"
     ]
    }
   ],
   "source": [
    "print(np.cos(rad_angles))"
   ]
  },
  {
   "cell_type": "code",
   "execution_count": 41,
   "metadata": {
    "scrolled": true
   },
   "outputs": [
    {
     "data": {
      "image/png": "[encoded data removed]",
      "text/plain": [
       "<Figure size 432x288 with 1 Axes>"
      ]
     },
     "metadata": {
      "needs_background": "light"
     },
     "output_type": "display_data"
    }
   ],
   "source": [
    "plt.plot(rad_angles, np.cos(rad_angles))            # plot for rad_angles vs cos(rad_angles)\n",
    "plt.xlabel('Angle [rad]')                           #label for x-axis\n",
    "plt.ylabel('cos(x)')                                #lable for y-axis\n",
    "plt.axis('tight')                                   #\"tight\" Sets limits just large enough to show all data.\n",
    "plt.show()  "
   ]
  },
  {
   "cell_type": "code",
   "execution_count": 42,
   "metadata": {},
   "outputs": [
    {
     "data": {
      "text/plain": [
       "array([0.        , 0.52359878, 0.78539816, 1.04719755, 1.57079633,\n",
       "       2.0943951 , 2.61799388, 3.14159265])"
      ]
     },
     "execution_count": 42,
     "metadata": {},
     "output_type": "execute_result"
    }
   ],
   "source": [
    "x   #in degree it would be 0, 30, 45, 60, 90,120,150,180"
   ]
  },
  {
   "cell_type": "code",
   "execution_count": 43,
   "metadata": {},
   "outputs": [
    {
     "data": {
      "image/png": "[encoded data removed]",
      "text/plain": [
       "<Figure size 432x288 with 1 Axes>"
      ]
     },
     "metadata": {
      "needs_background": "light"
     },
     "output_type": "display_data"
    }
   ],
   "source": [
    "plt.plot(x, np.cos(x))            # plot for X vs sin(x)\n",
    "plt.xlabel('Angle [rad]')         #label for x-axis\n",
    "plt.ylabel('cos(x)')              #lable for y-axis\n",
    "plt.axis('tight')                 #\"tight\" Sets limits just large enough to show all data.\n",
    "plt.show()  "
   ]
  },
  {
   "cell_type": "code",
   "execution_count": 44,
   "metadata": {},
   "outputs": [
    {
     "data": {
      "image/png": "[encoded data removed]",
      "text/plain": [
       "<Figure size 432x288 with 1 Axes>"
      ]
     },
     "metadata": {
      "needs_background": "light"
     },
     "output_type": "display_data"
    }
   ],
   "source": [
    "plt.plot(extended_x, np.cos(extended_x))\n",
    "plt.xlabel('Angle [rad]')\n",
    "plt.ylabel('cos(x)')\n",
    "plt.axis('tight')\n",
    "plt.show()"
   ]
  },
  {
   "cell_type": "markdown",
   "metadata": {},
   "source": [
    "## 7.3 tan()"
   ]
  },
  {
   "cell_type": "code",
   "execution_count": 45,
   "metadata": {},
   "outputs": [
    {
     "data": {
      "text/plain": [
       "array([0.        , 0.52359878, 0.78539816, 1.04719755, 1.57079633])"
      ]
     },
     "execution_count": 45,
     "metadata": {},
     "output_type": "execute_result"
    }
   ],
   "source": [
    "rad_angles"
   ]
  },
  {
   "cell_type": "code",
   "execution_count": 46,
   "metadata": {},
   "outputs": [
    {
     "name": "stdout",
     "output_type": "stream",
     "text": [
      "[0.00000000e+00 5.77350269e-01 1.00000000e+00 1.73205081e+00\n",
      " 1.63312394e+16]\n"
     ]
    }
   ],
   "source": [
    "print(np.tan(rad_angles))"
   ]
  },
  {
   "cell_type": "code",
   "execution_count": 47,
   "metadata": {},
   "outputs": [
    {
     "data": {
      "image/png": "[encoded data removed]",
      "text/plain": [
       "<Figure size 432x288 with 1 Axes>"
      ]
     },
     "metadata": {
      "needs_background": "light"
     },
     "output_type": "display_data"
    }
   ],
   "source": [
    "plt.plot(rad_angles, np.tan(rad_angles))            # plot for rad_angles vs tan(rad_angles)\n",
    "plt.xlabel('Angle [rad]')                           #label for x-axis\n",
    "plt.ylabel('tan(x)')                                #lable for y-axis\n",
    "plt.axis('tight')                                   #\"tight\" Sets limits just large enough to show all data.\n",
    "plt.show()  "
   ]
  },
  {
   "cell_type": "code",
   "execution_count": 48,
   "metadata": {},
   "outputs": [
    {
     "data": {
      "text/plain": [
       "array([0.        , 0.52359878, 0.78539816, 1.04719755, 1.57079633,\n",
       "       2.0943951 , 2.61799388, 3.14159265])"
      ]
     },
     "execution_count": 48,
     "metadata": {},
     "output_type": "execute_result"
    }
   ],
   "source": [
    "x   #in degree it would be 0, 30, 45, 60, 90,120,150,180"
   ]
  },
  {
   "cell_type": "code",
   "execution_count": 49,
   "metadata": {},
   "outputs": [
    {
     "data": {
      "image/png": "[encoded data removed]",
      "text/plain": [
       "<Figure size 432x288 with 1 Axes>"
      ]
     },
     "metadata": {
      "needs_background": "light"
     },
     "output_type": "display_data"
    }
   ],
   "source": [
    "plt.plot(x, np.tan(x))            # plot for X vs tan(x)\n",
    "plt.xlabel('Angle [rad]')         #label for x-axis\n",
    "plt.ylabel('tan(x)')              #lable for y-axis\n",
    "plt.axis('tight')                 #\"tight\" Sets limits just large enough to show all data.\n",
    "plt.show()  "
   ]
  },
  {
   "cell_type": "code",
   "execution_count": 50,
   "metadata": {},
   "outputs": [
    {
     "data": {
      "image/png": "[encoded data removed]",
      "text/plain": [
       "<Figure size 432x288 with 1 Axes>"
      ]
     },
     "metadata": {
      "needs_background": "light"
     },
     "output_type": "display_data"
    }
   ],
   "source": [
    "plt.plot(extended_x, np.tan(extended_x))\n",
    "plt.xlabel('Angle [rad]')\n",
    "plt.ylabel('tan(x)')\n",
    "plt.axis('tight')                           #tight should be removed! because it ties to fit all points\n",
    "plt.show()"
   ]
  },
  {
   "cell_type": "code",
   "execution_count": 51,
   "metadata": {
    "scrolled": true
   },
   "outputs": [
    {
     "data": {
      "image/png": "[encoded data removed]",
      "text/plain": [
       "<Figure size 432x288 with 1 Axes>"
      ]
     },
     "metadata": {
      "needs_background": "light"
     },
     "output_type": "display_data"
    }
   ],
   "source": [
    "plt.plot(extended_x, np.tan(extended_x))\n",
    "plt.xlabel('Angle [rad]')\n",
    "plt.ylabel('tan(x)')\n",
    "plt.ylim(-5, 5)                            #sets the y-limits of the current axes.\n",
    "plt.show()"
   ]
  },
  {
   "cell_type": "markdown",
   "metadata": {},
   "source": [
    "# 9. argsort  (returns the indices of the sorted elements)  "
   ]
  },
  {
   "cell_type": "code",
   "execution_count": 52,
   "metadata": {},
   "outputs": [
    {
     "name": "stdout",
     "output_type": "stream",
     "text": [
      "[0 2 4 1 3]\n"
     ]
    }
   ],
   "source": [
    "arr1 = np.array([2, 41, 14, 53, 25])   \n",
    "i = np.argsort(arr1)\n",
    "print(i)"
   ]
  },
  {
   "cell_type": "code",
   "execution_count": 53,
   "metadata": {},
   "outputs": [
    {
     "data": {
      "text/plain": [
       "array([ 2, 41, 14, 53, 25])"
      ]
     },
     "execution_count": 53,
     "metadata": {},
     "output_type": "execute_result"
    }
   ],
   "source": [
    "arr1  #it doesnot actualy sort but returns indices where elements should be after sorting"
   ]
  },
  {
   "cell_type": "markdown",
   "metadata": {},
   "source": [
    "# 10. log"
   ]
  },
  {
   "cell_type": "code",
   "execution_count": 54,
   "metadata": {},
   "outputs": [
    {
     "name": "stdout",
     "output_type": "stream",
     "text": [
      "ln(x)    = [0.69314718 3.71357207 2.63905733 3.97029191 3.21887582]\n"
     ]
    }
   ],
   "source": [
    "print(\"ln(x)    =\", np.log(arr1))"
   ]
  },
  {
   "cell_type": "code",
   "execution_count": 55,
   "metadata": {
    "scrolled": true
   },
   "outputs": [
    {
     "name": "stdout",
     "output_type": "stream",
     "text": [
      "log2(x)  = [1.         5.357552   3.80735492 5.72792045 4.64385619]\n"
     ]
    }
   ],
   "source": [
    "print(\"log2(x)  =\", np.log2(arr1))"
   ]
  },
  {
   "cell_type": "code",
   "execution_count": 56,
   "metadata": {},
   "outputs": [
    {
     "name": "stdout",
     "output_type": "stream",
     "text": [
      "log10(x) = [0.30103    1.61278386 1.14612804 1.72427587 1.39794001]\n"
     ]
    }
   ],
   "source": [
    "print(\"log10(x) =\", np.log10(arr1))"
   ]
  },
  {
   "cell_type": "markdown",
   "metadata": {},
   "source": [
    "# ....continued in part 5"
   ]
  },
  {
   "cell_type": "code",
   "execution_count": 57,
   "metadata": {},
   "outputs": [
    {
     "name": "stdout",
     "output_type": "stream",
     "text": [
      "Sun Mar 15 02:48:50 2020       \n",
      "+-----------------------------------------------------------------------------+\n",
      "| NVIDIA-SMI 441.87       Driver Version: 441.87       CUDA Version: 10.2     |\n",
      "|-------------------------------+----------------------+----------------------+\n",
      "| GPU  Name            TCC/WDDM | Bus-Id        Disp.A | Volatile Uncorr. ECC |\n",
      "| Fan  Temp  Perf  Pwr:Usage/Cap|         Memory-Usage | GPU-Util  Compute M. |\n",
      "|===============================+======================+======================|\n",
      "|   0  GeForce GTX 1050   WDDM  | 00000000:01:00.0 Off |                  N/A |\n",
      "| N/A   41C    P8    N/A /  N/A |     77MiB /  4096MiB |      0%      Default |\n",
      "+-------------------------------+----------------------+----------------------+\n",
      "                                                                               \n",
      "+-----------------------------------------------------------------------------+\n",
      "| Processes:                                                       GPU Memory |\n",
      "|  GPU       PID   Type   Process name                             Usage      |\n",
      "|=============================================================================|\n",
      "|  No running processes found                                                 |\n",
      "+-----------------------------------------------------------------------------+\n"
     ]
    }
   ],
   "source": [
    "!nvidia-smi"
   ]
  },
  {
   "cell_type": "code",
   "execution_count": null,
   "metadata": {},
   "outputs": [],
   "source": []
  },
  {
   "cell_type": "code",
   "execution_count": null,
   "metadata": {},
   "outputs": [],
   "source": []
  },
  {
   "cell_type": "code",
   "execution_count": null,
   "metadata": {},
   "outputs": [],
   "source": []
  },
  {
   "cell_type": "code",
   "execution_count": null,
   "metadata": {},
   "outputs": [],
   "source": []
  },
  {
   "cell_type": "code",
   "execution_count": null,
   "metadata": {},
   "outputs": [],
   "source": []
  },
  {
   "cell_type": "code",
   "execution_count": null,
   "metadata": {},
   "outputs": [],
   "source": []
  },
  {
   "cell_type": "code",
   "execution_count": null,
   "metadata": {},
   "outputs": [],
   "source": []
  },
  {
   "cell_type": "code",
   "execution_count": null,
   "metadata": {},
   "outputs": [],
   "source": []
  }
 ],
 "metadata": {
  "kernelspec": {
   "display_name": "Python 3",
   "language": "python",
   "name": "python3"
  },
  "language_info": {
   "codemirror_mode": {
    "name": "ipython",
    "version": 3
   },
   "file_extension": ".py",
   "mimetype": "text/x-python",
   "name": "python",
   "nbconvert_exporter": "python",
   "pygments_lexer": "ipython3",
   "version": "3.7.4"
  }
 },
 "nbformat": 4,
 "nbformat_minor": 4
}
